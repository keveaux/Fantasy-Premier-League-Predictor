{
 "cells": [
  {
   "cell_type": "markdown",
   "metadata": {
    "id": "2ooB3dgw1ckg"
   },
   "source": [
    "                                        © Group 9 Artificial Intelligence 2021         \n",
    "![](logo.png)\n",
    "![](epl_teams.png)   "
   ]
  },
  {
   "cell_type": "markdown",
   "metadata": {
    "id": "J8Z1G_WG1ckt"
   },
   "source": [
    "<center><div class=\"alert\" style=\"background-color:#fff; color:white; text-align:center padding:0px 10px; border-radius:5px;\"><h2 style='margin:15px 15px; color:#EF7483; font-size:30px'> Predictive Analysis of Players’ Performance in Fantasy Premier League (FPL) fixtures</h2>\n",
    "</div>\n",
    "    </center>\n"
   ]
  },
  {
   "cell_type": "markdown",
   "metadata": {
    "id": "CGFNuG-w1cku"
   },
   "source": [
    "### Content:\n",
    "1. Load the Data\n",
    "  - Import libraries\n",
    "  - Load the datasets\n",
    "  \n",
    "2. Overview of the Data\n",
    "  - Descriptive Statistics\n",
    "  - Missing Values\n",
    "  \n",
    "3. Exploratory Data Analysis\n",
    "  - Create list of columns by data type\n",
    "  - Check the distribution of target class\n",
    "  - Check the distribution of every feature\n",
    "  - Check how differnt numerical features are realated to target class\n",
    "  \n",
    "4. Data Preparation\n",
    "  - Data Cleaning\n",
    "  - Split X & y\n",
    "  - Feature Scaling\n",
    "  - Train Test split\n",
    "  \n",
    "5. Model Building\n",
    "  - Train Model\n",
    "  - Model Prediction\n",
    "  - Model Evaluation\n",
    "  \n",
    "7. Improve Model\n",
    "  - Handle Class Imbalance\n",
    "  - Hyperparameter Tuning\n",
    "  - Save the Final Model"
   ]
  },
  {
   "cell_type": "markdown",
   "metadata": {
    "id": "YyJbhRRD1ckv"
   },
   "source": [
    "## Inputs\n",
    "\n",
    "The notebook is designed in such a way that you just need to plug in the input values given below and run the code. It will run on it's own and will build the model as well. "
   ]
  },
  {
   "cell_type": "code",
   "execution_count": 99,
   "metadata": {
    "ExecuteTime": {
     "end_time": "2021-05-12T09:41:16.479710Z",
     "start_time": "2021-05-12T09:41:16.463712Z"
    },
    "id": "mwYtxAAt1ckx"
   },
   "outputs": [],
   "source": [
    "# Input file name with path\n",
    "input_train_file_name = 'X_train.csv'\n",
    "\n",
    "input_test_file_name = 'Dataset_new.csv'\n",
    "\n",
    "# Columns to be removed\n",
    "input_drop_col = ['player_id','player_name','opp','player_position','player_cost']\n",
    "\n",
    "# Col datatype selection\n",
    "input_datatype_selection = 'auto'\n",
    "\n",
    "# Categorical columns to be used\n",
    "input_cat_columns = []\n",
    "\n",
    "# Numerical columns\n",
    "input_num_columns = ['player_state', 'summed_minutes_played', 'form', 'fdr', 'pts_irf', 'gwk_31_pts','player_cost']\n",
    "'''\n",
    "player_state: This is the injury state of the player. It is a 0 - 100 likelyhood of a player featuring in a game\n",
    "summed_minutes_played: This is the sum of minutes played by each player in the last 5 games\n",
    "form: This is the current form of the player\n",
    "fdr: This is the match fixture difficulty rating\n",
    "pts_irf: This is the points obtained by the player in the reverse fixture\n",
    "gwk_31_pts: This is the point accummulated by each player in the current game week \n",
    "\n",
    "'''\n",
    "\n",
    "# Handle missing value\n",
    "input_treat_missing_value = 'drop' \n"
   ]
  },
  {
   "cell_type": "markdown",
   "metadata": {
    "id": "v3CAWyIl1cky"
   },
   "source": [
    "<div class=\"alert alert-info\" style=\"background-color:#EF7483; color:white; padding:0px 10px; border-radius:5px;\"><h2 style='margin:10px 5px'>1. Load the Data</h2>\n",
    "</div>\n",
    "\n",
    "In this section you will:\n",
    "\n",
    "- Import the libraries\n",
    "- Load the dataset"
   ]
  },
  {
   "cell_type": "markdown",
   "metadata": {
    "id": "VJ87ElRJ1ckz"
   },
   "source": [
    "### 1.1. Import Libraries\n",
    "\n",
    "Import all the libraries in the first cell itself"
   ]
  },
  {
   "cell_type": "code",
   "execution_count": 182,
   "metadata": {
    "ExecuteTime": {
     "end_time": "2021-05-12T11:44:59.809601Z",
     "start_time": "2021-05-12T11:44:59.777479Z"
    },
    "id": "PD4FhFf-1ck1"
   },
   "outputs": [],
   "source": [
    "# Import libraries \n",
    "import pprint\n",
    "\n",
    "# Data Manipulation\n",
    "import numpy as np \n",
    "import pandas as pd\n",
    "from   pandas import DataFrame\n",
    "\n",
    "# Data Visualization\n",
    "import seaborn as sns\n",
    "import matplotlib.pyplot as plt\n",
    "\n",
    "# Machine Learning\n",
    "from   sklearn.impute import SimpleImputer\n",
    "from   sklearn.preprocessing import LabelBinarizer\n",
    "from   sklearn.model_selection import RandomizedSearchCV, GridSearchCV, train_test_split\n",
    "from   sklearn.metrics import auc,accuracy_score,roc_curve,plot_roc_curve,roc_auc_score,confusion_matrix , classification_report\n",
    "from   sklearn.ensemble import RandomForestClassifier, BaggingClassifier, AdaBoostClassifier, VotingClassifier\n",
    "from   sklearn.svm import SVC\n",
    "from   imblearn.over_sampling import RandomOverSampler\n",
    "import pickle\n",
    "from sklearn.preprocessing import StandardScaler\n",
    "from sklearn import svm\n",
    "from sklearn.neural_network import MLPClassifier\n",
    "from sklearn.linear_model import LogisticRegression\n",
    "from sklearn.tree import DecisionTreeClassifier\n",
    "from sklearn.neural_network import MLPClassifier\n",
    "from sklearn.svm import SVC\n",
    "\n",
    "\n",
    "# Maths\n",
    "import math\n",
    "\n",
    "# Set the options\n",
    "import warnings\n",
    "warnings.filterwarnings('ignore')\n",
    "pd.set_option('display.max_rows', 800)\n",
    "pd.set_option('display.max_columns', 500)\n",
    "%matplotlib inline"
   ]
  },
  {
   "cell_type": "markdown",
   "metadata": {
    "id": "tCmOHLQ71ck2"
   },
   "source": [
    "### 1.2. Load the datasets\n",
    "\n",
    "Load the dataset using pd.read_csv()"
   ]
  },
  {
   "cell_type": "code",
   "execution_count": 101,
   "metadata": {
    "ExecuteTime": {
     "end_time": "2021-05-12T09:41:22.563276Z",
     "start_time": "2021-05-12T09:41:22.521282Z"
    },
    "id": "lumwjIQr1ck2",
    "outputId": "1a064bc8-67ec-4028-ad88-a9fa0c9d991f"
   },
   "outputs": [
    {
     "data": {
      "text/html": [
       "<div>\n",
       "<style scoped>\n",
       "    .dataframe tbody tr th:only-of-type {\n",
       "        vertical-align: middle;\n",
       "    }\n",
       "\n",
       "    .dataframe tbody tr th {\n",
       "        vertical-align: top;\n",
       "    }\n",
       "\n",
       "    .dataframe thead th {\n",
       "        text-align: right;\n",
       "    }\n",
       "</style>\n",
       "<table border=\"1\" class=\"dataframe\">\n",
       "  <thead>\n",
       "    <tr style=\"text-align: right;\">\n",
       "      <th></th>\n",
       "      <th>player_id</th>\n",
       "      <th>player_name</th>\n",
       "      <th>player_state</th>\n",
       "      <th>summed_minutes_played</th>\n",
       "      <th>form</th>\n",
       "      <th>fdr</th>\n",
       "      <th>pts_irf</th>\n",
       "      <th>player_position</th>\n",
       "      <th>player_cost</th>\n",
       "      <th>opp</th>\n",
       "      <th>gwk_31_pts</th>\n",
       "    </tr>\n",
       "  </thead>\n",
       "  <tbody>\n",
       "    <tr>\n",
       "      <th>0</th>\n",
       "      <td>1</td>\n",
       "      <td>Fernandes</td>\n",
       "      <td>100</td>\n",
       "      <td>450</td>\n",
       "      <td>4.8</td>\n",
       "      <td>4</td>\n",
       "      <td>6</td>\n",
       "      <td>MID</td>\n",
       "      <td>11.5</td>\n",
       "      <td>TOT</td>\n",
       "      <td>2</td>\n",
       "    </tr>\n",
       "    <tr>\n",
       "      <th>1</th>\n",
       "      <td>2</td>\n",
       "      <td>Kane</td>\n",
       "      <td>100</td>\n",
       "      <td>439</td>\n",
       "      <td>9.4</td>\n",
       "      <td>4</td>\n",
       "      <td>16</td>\n",
       "      <td>FWD</td>\n",
       "      <td>11.8</td>\n",
       "      <td>MUN</td>\n",
       "      <td>2</td>\n",
       "    </tr>\n",
       "    <tr>\n",
       "      <th>2</th>\n",
       "      <td>3</td>\n",
       "      <td>Salah</td>\n",
       "      <td>100</td>\n",
       "      <td>421</td>\n",
       "      <td>3.6</td>\n",
       "      <td>3</td>\n",
       "      <td>13</td>\n",
       "      <td>MID</td>\n",
       "      <td>12.6</td>\n",
       "      <td>AVL</td>\n",
       "      <td>7</td>\n",
       "    </tr>\n",
       "    <tr>\n",
       "      <th>3</th>\n",
       "      <td>4</td>\n",
       "      <td>Son</td>\n",
       "      <td>100</td>\n",
       "      <td>243</td>\n",
       "      <td>3.6</td>\n",
       "      <td>4</td>\n",
       "      <td>18</td>\n",
       "      <td>MID</td>\n",
       "      <td>9.5</td>\n",
       "      <td>MUN</td>\n",
       "      <td>7</td>\n",
       "    </tr>\n",
       "    <tr>\n",
       "      <th>4</th>\n",
       "      <td>5</td>\n",
       "      <td>Bamford</td>\n",
       "      <td>100</td>\n",
       "      <td>354</td>\n",
       "      <td>3.6</td>\n",
       "      <td>5</td>\n",
       "      <td>1</td>\n",
       "      <td>FWD</td>\n",
       "      <td>6.5</td>\n",
       "      <td>MCI</td>\n",
       "      <td>4</td>\n",
       "    </tr>\n",
       "  </tbody>\n",
       "</table>\n",
       "</div>"
      ],
      "text/plain": [
       "   player_id player_name  player_state  summed_minutes_played  form  fdr  \\\n",
       "0          1   Fernandes           100                    450   4.8    4   \n",
       "1          2        Kane           100                    439   9.4    4   \n",
       "2          3       Salah           100                    421   3.6    3   \n",
       "3          4         Son           100                    243   3.6    4   \n",
       "4          5     Bamford           100                    354   3.6    5   \n",
       "\n",
       "   pts_irf player_position  player_cost  opp  gwk_31_pts  \n",
       "0        6             MID         11.5  TOT           2  \n",
       "1       16             FWD         11.8  MUN           2  \n",
       "2       13             MID         12.6  AVL           7  \n",
       "3       18             MID          9.5  MUN           7  \n",
       "4        1             FWD          6.5  MCI           4  "
      ]
     },
     "execution_count": 101,
     "metadata": {},
     "output_type": "execute_result"
    }
   ],
   "source": [
    "# Read data in form of a csv file\n",
    "df = pd.read_csv(input_train_file_name)\n",
    "\n",
    "# First 5 rows of the dataset\n",
    "df.head()"
   ]
  },
  {
   "cell_type": "markdown",
   "metadata": {
    "id": "pjR4bzK81ck4"
   },
   "source": [
    "<div class=\"alert alert-info\" style=\"background-color:#EF7483; color:white; padding:0px 10px; border-radius:5px;\"><h2 style='margin:10px 5px'>2. Overview of the Data</h2>\n",
    "</div>\n",
    "\n",
    "Before attempting to solve the problem, it's very important to have a good understanding of data.\n",
    "\n",
    "In this section you will:\n",
    "- Get the descriptive statistics of the data\n",
    "- Get the information about missing values in the data"
   ]
  },
  {
   "cell_type": "markdown",
   "metadata": {
    "id": "wo4eKaKC1ck6"
   },
   "source": [
    "### 2.1. Descriptive Statistics\n",
    "\n",
    "As the name says descriptive statistics describes the data. It gives you information about\n",
    "- Mean, median, mode \n",
    "- Min, max\n",
    "- Count etc\n",
    "\n",
    "Let's understand the data we have"
   ]
  },
  {
   "cell_type": "code",
   "execution_count": 102,
   "metadata": {
    "ExecuteTime": {
     "end_time": "2021-05-12T09:41:26.376897Z",
     "start_time": "2021-05-12T09:41:26.355897Z"
    },
    "id": "GMMPfvip1ck6",
    "outputId": "afe15684-9549-4855-9d3e-21a304a9f9af"
   },
   "outputs": [
    {
     "data": {
      "text/plain": [
       "(571, 11)"
      ]
     },
     "execution_count": 102,
     "metadata": {},
     "output_type": "execute_result"
    }
   ],
   "source": [
    "# Dimension of the data\n",
    "df.shape"
   ]
  },
  {
   "cell_type": "code",
   "execution_count": 103,
   "metadata": {
    "ExecuteTime": {
     "end_time": "2021-05-12T09:41:27.503319Z",
     "start_time": "2021-05-12T09:41:27.441024Z"
    },
    "id": "wmkTixmK1ck7",
    "outputId": "cf159098-8961-4e03-ce1b-1286687019c9"
   },
   "outputs": [
    {
     "data": {
      "text/html": [
       "<div>\n",
       "<style scoped>\n",
       "    .dataframe tbody tr th:only-of-type {\n",
       "        vertical-align: middle;\n",
       "    }\n",
       "\n",
       "    .dataframe tbody tr th {\n",
       "        vertical-align: top;\n",
       "    }\n",
       "\n",
       "    .dataframe thead th {\n",
       "        text-align: right;\n",
       "    }\n",
       "</style>\n",
       "<table border=\"1\" class=\"dataframe\">\n",
       "  <thead>\n",
       "    <tr style=\"text-align: right;\">\n",
       "      <th></th>\n",
       "      <th>player_id</th>\n",
       "      <th>player_state</th>\n",
       "      <th>summed_minutes_played</th>\n",
       "      <th>form</th>\n",
       "      <th>fdr</th>\n",
       "      <th>pts_irf</th>\n",
       "      <th>player_cost</th>\n",
       "      <th>gwk_31_pts</th>\n",
       "    </tr>\n",
       "  </thead>\n",
       "  <tbody>\n",
       "    <tr>\n",
       "      <th>count</th>\n",
       "      <td>571.000000</td>\n",
       "      <td>571.000000</td>\n",
       "      <td>571.000000</td>\n",
       "      <td>571.000000</td>\n",
       "      <td>571.000000</td>\n",
       "      <td>571.000000</td>\n",
       "      <td>571.000000</td>\n",
       "      <td>571.000000</td>\n",
       "    </tr>\n",
       "    <tr>\n",
       "      <th>mean</th>\n",
       "      <td>306.851138</td>\n",
       "      <td>71.322242</td>\n",
       "      <td>161.922942</td>\n",
       "      <td>1.366725</td>\n",
       "      <td>3.110333</td>\n",
       "      <td>1.458844</td>\n",
       "      <td>5.993345</td>\n",
       "      <td>1.339755</td>\n",
       "    </tr>\n",
       "    <tr>\n",
       "      <th>std</th>\n",
       "      <td>190.852595</td>\n",
       "      <td>43.169936</td>\n",
       "      <td>175.992746</td>\n",
       "      <td>1.693687</td>\n",
       "      <td>0.949653</td>\n",
       "      <td>3.009862</td>\n",
       "      <td>3.950877</td>\n",
       "      <td>2.542994</td>\n",
       "    </tr>\n",
       "    <tr>\n",
       "      <th>min</th>\n",
       "      <td>1.000000</td>\n",
       "      <td>0.000000</td>\n",
       "      <td>0.000000</td>\n",
       "      <td>-0.800000</td>\n",
       "      <td>2.000000</td>\n",
       "      <td>-2.000000</td>\n",
       "      <td>3.800000</td>\n",
       "      <td>-2.000000</td>\n",
       "    </tr>\n",
       "    <tr>\n",
       "      <th>25%</th>\n",
       "      <td>143.500000</td>\n",
       "      <td>25.000000</td>\n",
       "      <td>0.000000</td>\n",
       "      <td>0.000000</td>\n",
       "      <td>2.000000</td>\n",
       "      <td>0.000000</td>\n",
       "      <td>4.500000</td>\n",
       "      <td>0.000000</td>\n",
       "    </tr>\n",
       "    <tr>\n",
       "      <th>50%</th>\n",
       "      <td>289.000000</td>\n",
       "      <td>100.000000</td>\n",
       "      <td>90.000000</td>\n",
       "      <td>0.600000</td>\n",
       "      <td>3.000000</td>\n",
       "      <td>0.000000</td>\n",
       "      <td>5.000000</td>\n",
       "      <td>0.000000</td>\n",
       "    </tr>\n",
       "    <tr>\n",
       "      <th>75%</th>\n",
       "      <td>459.500000</td>\n",
       "      <td>100.000000</td>\n",
       "      <td>335.500000</td>\n",
       "      <td>2.400000</td>\n",
       "      <td>4.000000</td>\n",
       "      <td>2.000000</td>\n",
       "      <td>5.700000</td>\n",
       "      <td>2.000000</td>\n",
       "    </tr>\n",
       "    <tr>\n",
       "      <th>max</th>\n",
       "      <td>685.000000</td>\n",
       "      <td>100.000000</td>\n",
       "      <td>450.000000</td>\n",
       "      <td>9.400000</td>\n",
       "      <td>5.000000</td>\n",
       "      <td>24.000000</td>\n",
       "      <td>34.000000</td>\n",
       "      <td>17.000000</td>\n",
       "    </tr>\n",
       "  </tbody>\n",
       "</table>\n",
       "</div>"
      ],
      "text/plain": [
       "        player_id  player_state  summed_minutes_played        form  \\\n",
       "count  571.000000    571.000000             571.000000  571.000000   \n",
       "mean   306.851138     71.322242             161.922942    1.366725   \n",
       "std    190.852595     43.169936             175.992746    1.693687   \n",
       "min      1.000000      0.000000               0.000000   -0.800000   \n",
       "25%    143.500000     25.000000               0.000000    0.000000   \n",
       "50%    289.000000    100.000000              90.000000    0.600000   \n",
       "75%    459.500000    100.000000             335.500000    2.400000   \n",
       "max    685.000000    100.000000             450.000000    9.400000   \n",
       "\n",
       "              fdr     pts_irf  player_cost  gwk_31_pts  \n",
       "count  571.000000  571.000000   571.000000  571.000000  \n",
       "mean     3.110333    1.458844     5.993345    1.339755  \n",
       "std      0.949653    3.009862     3.950877    2.542994  \n",
       "min      2.000000   -2.000000     3.800000   -2.000000  \n",
       "25%      2.000000    0.000000     4.500000    0.000000  \n",
       "50%      3.000000    0.000000     5.000000    0.000000  \n",
       "75%      4.000000    2.000000     5.700000    2.000000  \n",
       "max      5.000000   24.000000    34.000000   17.000000  "
      ]
     },
     "execution_count": 103,
     "metadata": {},
     "output_type": "execute_result"
    }
   ],
   "source": [
    "# Summary of the dataset\n",
    "df.describe()"
   ]
  },
  {
   "cell_type": "markdown",
   "metadata": {
    "id": "94IXReO41ck7"
   },
   "source": [
    "### 2.2 Missing Values\n",
    "\n",
    "Get the info about missing values in the dataframe"
   ]
  },
  {
   "cell_type": "code",
   "execution_count": 104,
   "metadata": {
    "ExecuteTime": {
     "end_time": "2021-05-12T09:41:30.390943Z",
     "start_time": "2021-05-12T09:41:30.366918Z"
    },
    "id": "NJZXuzoI1ck8",
    "outputId": "8ed167ec-6a3d-4c2e-f2f1-0049263b9fd8"
   },
   "outputs": [
    {
     "data": {
      "text/plain": [
       "player_id                0\n",
       "player_name              0\n",
       "player_state             0\n",
       "summed_minutes_played    0\n",
       "form                     0\n",
       "fdr                      0\n",
       "pts_irf                  0\n",
       "player_position          0\n",
       "player_cost              0\n",
       "opp                      0\n",
       "gwk_31_pts               0\n",
       "dtype: int64"
      ]
     },
     "execution_count": 104,
     "metadata": {},
     "output_type": "execute_result"
    }
   ],
   "source": [
    "# Missing values for every column\n",
    "df.isna().sum()"
   ]
  },
  {
   "cell_type": "markdown",
   "metadata": {
    "id": "pACniI3O1ck8"
   },
   "source": [
    "<div class=\"alert alert-info\" style=\"background-color:#EF7483; color:white; padding:0px 10px; border-radius:5px;\"><h2 style='margin:10px 5px'>3. Exploratory Data Analaysis</h2>\n",
    "</div>\n",
    "\n",
    "Exploratory data analysis is an approach to analyze or investigate data sets to find out patterns and see if any of the variables can be useful in predicting the y variables. Visual methods are often used to summarise the data. Primarily EDA is for seeing what the data can tell us beyond the formal modeling or hypothesis testing tasks.\n",
    "\n",
    "In this section you will:\n",
    "- Create list of columns by data type\n",
    "- Check the distribution of target class\n",
    "- Check the distribution of every feature\n",
    "- Check how differnt numerical features are realated to target class"
   ]
  },
  {
   "cell_type": "markdown",
   "metadata": {
    "id": "PPHiLUyB1ck-"
   },
   "source": [
    "### 3.1. Extract data types of columns\n",
    "\n",
    "It's better to get the list of columns by data types in the start itself. You won't have to manually write the name of columns while performing certain operations. So always get the list of columns in the start itself."
   ]
  },
  {
   "cell_type": "code",
   "execution_count": 105,
   "metadata": {
    "ExecuteTime": {
     "end_time": "2021-05-12T09:41:33.393667Z",
     "start_time": "2021-05-12T09:41:33.375634Z"
    },
    "id": "KHxlNHfr1ck-"
   },
   "outputs": [],
   "source": [
    "# Remove extra columns\n",
    "col_remove = input_drop_col\n",
    "df = df.drop(col_remove, axis = 1)"
   ]
  },
  {
   "cell_type": "code",
   "execution_count": 106,
   "metadata": {
    "ExecuteTime": {
     "end_time": "2021-05-12T09:41:35.437159Z",
     "start_time": "2021-05-12T09:41:35.423160Z"
    },
    "id": "lecSDx5M1ck-",
    "outputId": "822297ef-303d-45d7-9fef-f4b0f99a7cfe"
   },
   "outputs": [
    {
     "name": "stdout",
     "output_type": "stream",
     "text": [
      "Binary Columns :  []\n",
      "Categorical Columns :  []\n",
      "Numerical Columns :  ['player_state', 'summed_minutes_played', 'form', 'fdr', 'pts_irf', 'gwk_31_pts']\n"
     ]
    }
   ],
   "source": [
    "# Get the list of numeric and categorical columns according to the input\n",
    "if input_datatype_selection == \"auto\":\n",
    "\n",
    "    binary_columns = [col for col in df.columns if df[col].nunique() == 2]\n",
    "    print(\"Binary Columns : \", binary_columns)\n",
    "\n",
    "    categorical_columns = [col for col in df.columns if df[col].dtype == \"object\"]\n",
    "    print(\"Categorical Columns : \", categorical_columns)\n",
    "\n",
    "    categorical_columns = binary_columns + categorical_columns\n",
    "    categorical_columns = list(set(categorical_columns))\n",
    "\n",
    "    numerical_columns = [col for col in df.columns if col not in categorical_columns]\n",
    "    print(\"Numerical Columns : \", numerical_columns)\n",
    "    \n",
    "else:\n",
    "    categorical_columns = input_cat_columns\n",
    "    print(\"Categorical Columns : \", categorical_columns)\n",
    "    \n",
    "    numerical_columns   = input_num_columns\n",
    "    print(\"Numerical Columns : \", numerical_columns)"
   ]
  },
  {
   "cell_type": "markdown",
   "metadata": {
    "id": "YYH1hu_h1ck_"
   },
   "source": [
    "**Note :** There might be some mismatch in the data type of the columns, so in such cases you will have to correct it manually"
   ]
  },
  {
   "cell_type": "markdown",
   "metadata": {
    "id": "lRfP28Sz1ck_"
   },
   "source": [
    "### 3.2 Check distribution of target class\n",
    "\n",
    "We now group the target class and check the distribution of target class, see how many categories are there, is it balanced or not"
   ]
  },
  {
   "cell_type": "code",
   "execution_count": 107,
   "metadata": {
    "ExecuteTime": {
     "end_time": "2021-05-12T09:41:39.054178Z",
     "start_time": "2021-05-12T09:41:38.842693Z"
    },
    "id": "1KD3nXSq1ck_",
    "outputId": "136085a0-d7c2-4f39-f156-57424f74cd35"
   },
   "outputs": [
    {
     "data": {
      "image/png": "[encoded data removed]",
      "text/plain": [
       "<Figure size 432x288 with 1 Axes>"
      ]
     },
     "metadata": {
      "needs_background": "light"
     },
     "output_type": "display_data"
    }
   ],
   "source": [
    "#group the target class from 1-6\n",
    "df['gwk_31_pts'] = np.where(df['gwk_31_pts'].between(1,1),1,df['gwk_31_pts'])\n",
    "df['gwk_31_pts'] = np.where(df['gwk_31_pts'].between(2,3),2,df['gwk_31_pts'])\n",
    "df['gwk_31_pts'] = np.where(df['gwk_31_pts'].between(4,5),3,df['gwk_31_pts'])\n",
    "df['gwk_31_pts'] = np.where(df['gwk_31_pts'].between(6,8),4,df['gwk_31_pts'])\n",
    "df['gwk_31_pts'] = df['gwk_31_pts'].mask(df['gwk_31_pts'] > 8,5)\n",
    "df['gwk_31_pts'] = df['gwk_31_pts'].mask(df['gwk_31_pts'] < 0,0)\n",
    "\n",
    "\n",
    "# Check distribution of target class\n",
    "sns.countplot(y=df['gwk_31_pts'] ,data=df)\n",
    "plt.xlabel(\"Count of each Target class\")\n",
    "plt.ylabel(\"Target classes\")\n",
    "plt.show()"
   ]
  },
  {
   "cell_type": "markdown",
   "metadata": {
    "id": "uVVSO8vM1ck_"
   },
   "source": [
    "### 3.3. Check the distribution of every feature"
   ]
  },
  {
   "cell_type": "code",
   "execution_count": 108,
   "metadata": {
    "ExecuteTime": {
     "end_time": "2021-05-12T09:41:43.060698Z",
     "start_time": "2021-05-12T09:41:42.131702Z"
    },
    "id": "GA3hL7ho1clA",
    "outputId": "c60a0f52-a726-4c8c-c183-25b55f2189a8"
   },
   "outputs": [
    {
     "data": {
      "image/png": "[encoded data removed]",
      "text/plain": [
       "<Figure size 1080x864 with 6 Axes>"
      ]
     },
     "metadata": {
      "needs_background": "light"
     },
     "output_type": "display_data"
    }
   ],
   "source": [
    "# Check the distribution of all the features\n",
    "df.hist(figsize=(15,12),bins = 15)\n",
    "plt.title(\"Features Distribution\")\n",
    "plt.show()"
   ]
  },
  {
   "cell_type": "markdown",
   "metadata": {
    "id": "K9GS53kt1clB"
   },
   "source": [
    "### 3.4 Check how differnt numerical features are realated to target class"
   ]
  },
  {
   "cell_type": "code",
   "execution_count": 109,
   "metadata": {
    "ExecuteTime": {
     "end_time": "2021-05-12T09:41:47.081384Z",
     "start_time": "2021-05-12T09:41:47.072383Z"
    },
    "id": "I8pS1M651clB"
   },
   "outputs": [],
   "source": [
    "# Number of rows and columns in the plot\n",
    "n_cols = 3\n",
    "n_rows = math.ceil(len(numerical_columns)/n_cols)"
   ]
  },
  {
   "cell_type": "code",
   "execution_count": 110,
   "metadata": {
    "ExecuteTime": {
     "end_time": "2021-05-12T09:41:50.915477Z",
     "start_time": "2021-05-12T09:41:49.460785Z"
    },
    "id": "caRWkZbJ1clC",
    "outputId": "02aaf105-0141-45f4-e64d-e648b0b4ca50"
   },
   "outputs": [
    {
     "data": {
      "image/png": "[encoded data removed]",
      "text/plain": [
       "<Figure size 2160x2160 with 6 Axes>"
      ]
     },
     "metadata": {
      "needs_background": "light"
     },
     "output_type": "display_data"
    }
   ],
   "source": [
    "# Check the distribution of y variable corresponding to every x variable \n",
    "fig,ax = plt.subplots(nrows = n_rows, ncols = n_cols, figsize=(30,30))\n",
    "row = 0\n",
    "col = 0\n",
    "for i in numerical_columns:\n",
    "    if col > 2:\n",
    "        row += 1\n",
    "        col = 0\n",
    "    axes = ax[row,col]\n",
    "    sns.boxplot(x = df['gwk_31_pts'], y = df[i],ax = axes)\n",
    "    col += 1\n",
    "plt.tight_layout()\n",
    "plt.title(\"Individual Features by Class\")\n",
    "plt.show()"
   ]
  },
  {
   "cell_type": "markdown",
   "metadata": {
    "id": "Jqjpx_rM1clC"
   },
   "source": [
    "<div class=\"alert alert-info\" style=\"background-color:#EF7483; color:white; padding:0px 10px; border-radius:5px;\"><h2 style='margin:10px 5px'>4. Data Preparation</h2>\n",
    "</div>\n",
    "\n",
    "The data is not yet ready for model building. You need to process the data and make it ready for model building\n",
    "\n",
    "In this section you will:\n",
    "- Clean the data\n",
    "- Encode the categorical features\n",
    "- Split the dataset in X and y dataset\n",
    "- Scale the features\n",
    "- Split the data in train and test set"
   ]
  },
  {
   "cell_type": "markdown",
   "metadata": {
    "id": "tq-6stRW1clC"
   },
   "source": [
    "### 4.1. Data Cleaning\n",
    "\n",
    "Machine Learning works on the idea of garbage in - garbage out. If you feed in dirty data, the results won't be good. Hence it's very important to clean the data before training the model.\n",
    "\n",
    "**Sklearn algorithms need missing value imputation but XGBoost, LightGBM etc does not require missing value imputation**\n",
    "\n",
    "There are various ways to handle missing values. Some of the ways are:\n",
    "- Drop the rows with missing values\n",
    "- Impute the missing values with mean, median, mode, most frequent category, unknown category etc\n",
    "\n",
    "Here you can decide how you want to handle the missing data"
   ]
  },
  {
   "cell_type": "code",
   "execution_count": 111,
   "metadata": {
    "ExecuteTime": {
     "end_time": "2021-05-12T09:42:11.359919Z",
     "start_time": "2021-05-12T09:42:11.350917Z"
    },
    "id": "HD4yYFX41clC",
    "outputId": "b6f2f3fb-abb9-48f6-c0dd-4aecad8ba717"
   },
   "outputs": [
    {
     "name": "stdout",
     "output_type": "stream",
     "text": [
      "(571, 6)\n"
     ]
    }
   ],
   "source": [
    "# Select how you wish to treat missing values according to the input provided\n",
    "if input_treat_missing_value == 'drop':\n",
    "    \n",
    "    # drop rows with missing values\n",
    "    df.dropna(inplace=True)\n",
    "    print(df.shape)\n",
    "\n",
    "elif input_treat_missing_value == 'impute': \n",
    "    \n",
    "    # Impute missing values\n",
    "    for col in numerical_columns:\n",
    "        df[col] = df[col].fillna(df[col].mean())\n",
    "    for col in categorical_columns:\n",
    "        df[col] = df[col].fillna(\"Unknown\")\n",
    "elif input_treat_missing_value == 'ignore':\n",
    "    print(\"Ignore missing values\")"
   ]
  },
  {
   "cell_type": "code",
   "execution_count": 112,
   "metadata": {
    "ExecuteTime": {
     "end_time": "2021-05-12T09:42:14.987261Z",
     "start_time": "2021-05-12T09:42:14.966259Z"
    },
    "id": "rk3oNTHW1clD",
    "outputId": "551288e0-0c56-4abe-c854-814be49ec195"
   },
   "outputs": [
    {
     "data": {
      "text/html": [
       "<div>\n",
       "<style scoped>\n",
       "    .dataframe tbody tr th:only-of-type {\n",
       "        vertical-align: middle;\n",
       "    }\n",
       "\n",
       "    .dataframe tbody tr th {\n",
       "        vertical-align: top;\n",
       "    }\n",
       "\n",
       "    .dataframe thead th {\n",
       "        text-align: right;\n",
       "    }\n",
       "</style>\n",
       "<table border=\"1\" class=\"dataframe\">\n",
       "  <thead>\n",
       "    <tr style=\"text-align: right;\">\n",
       "      <th></th>\n",
       "      <th>player_state</th>\n",
       "      <th>summed_minutes_played</th>\n",
       "      <th>form</th>\n",
       "      <th>fdr</th>\n",
       "      <th>pts_irf</th>\n",
       "      <th>gwk_31_pts</th>\n",
       "    </tr>\n",
       "  </thead>\n",
       "  <tbody>\n",
       "    <tr>\n",
       "      <th>0</th>\n",
       "      <td>100</td>\n",
       "      <td>450</td>\n",
       "      <td>4.8</td>\n",
       "      <td>4</td>\n",
       "      <td>6</td>\n",
       "      <td>2</td>\n",
       "    </tr>\n",
       "    <tr>\n",
       "      <th>1</th>\n",
       "      <td>100</td>\n",
       "      <td>439</td>\n",
       "      <td>9.4</td>\n",
       "      <td>4</td>\n",
       "      <td>16</td>\n",
       "      <td>2</td>\n",
       "    </tr>\n",
       "    <tr>\n",
       "      <th>2</th>\n",
       "      <td>100</td>\n",
       "      <td>421</td>\n",
       "      <td>3.6</td>\n",
       "      <td>3</td>\n",
       "      <td>13</td>\n",
       "      <td>4</td>\n",
       "    </tr>\n",
       "    <tr>\n",
       "      <th>3</th>\n",
       "      <td>100</td>\n",
       "      <td>243</td>\n",
       "      <td>3.6</td>\n",
       "      <td>4</td>\n",
       "      <td>18</td>\n",
       "      <td>4</td>\n",
       "    </tr>\n",
       "    <tr>\n",
       "      <th>4</th>\n",
       "      <td>100</td>\n",
       "      <td>354</td>\n",
       "      <td>3.6</td>\n",
       "      <td>5</td>\n",
       "      <td>1</td>\n",
       "      <td>3</td>\n",
       "    </tr>\n",
       "  </tbody>\n",
       "</table>\n",
       "</div>"
      ],
      "text/plain": [
       "   player_state  summed_minutes_played  form  fdr  pts_irf  gwk_31_pts\n",
       "0           100                    450   4.8    4        6           2\n",
       "1           100                    439   9.4    4       16           2\n",
       "2           100                    421   3.6    3       13           4\n",
       "3           100                    243   3.6    4       18           4\n",
       "4           100                    354   3.6    5        1           3"
      ]
     },
     "execution_count": 112,
     "metadata": {},
     "output_type": "execute_result"
    }
   ],
   "source": [
    "df.head()"
   ]
  },
  {
   "cell_type": "code",
   "execution_count": 113,
   "metadata": {
    "ExecuteTime": {
     "end_time": "2021-05-12T09:42:18.118673Z",
     "start_time": "2021-05-12T09:42:18.068809Z"
    }
   },
   "outputs": [],
   "source": [
    "df['player_state'] = df[['player_state']].replace([100,75,50,25,0],[5,4,3,1,0])\n",
    "df['fdr'] = df[['fdr']].replace([5,4,3,2,1],[1,2,3,4,5])\n",
    "df['summed_minutes_played'] = np.where(df['summed_minutes_played'].between(1,90),1,df['summed_minutes_played'])\n",
    "df['summed_minutes_played'] = np.where(df['summed_minutes_played'].between(91,180),2,df['summed_minutes_played'])\n",
    "df['summed_minutes_played'] = np.where(df['summed_minutes_played'].between(181,270),3,df['summed_minutes_played'])\n",
    "df['summed_minutes_played'] = np.where(df['summed_minutes_played'].between(271,360),4,df['summed_minutes_played'])\n",
    "df['summed_minutes_played'] = np.where(df['summed_minutes_played'].between(361,450),5,df['summed_minutes_played'])\n",
    "df['form'] = np.where(df['form'].between(0.1,1.9),1,df['form'])\n",
    "df['form'] = np.where(df['form'].between(2.0,3.9),2,df['form'])\n",
    "df['form'] = np.where(df['form'].between(4.0,5.9),3,df['form'])\n",
    "df['form'] = np.where(df['form'].between(6.0,7.9),4,df['form'])\n",
    "df['form'] = df['form'].mask(df['form'] > 7.9,5)\n",
    "df['form'] = df['form'].mask(df['form'] < 0,0)\n",
    "df['pts_irf'] = np.where(df['pts_irf'].between(0.1,1.9),1,df['pts_irf'])\n",
    "df['pts_irf'] = np.where(df['pts_irf'].between(2.0,3.9),2,df['pts_irf'])\n",
    "df['pts_irf'] = np.where(df['pts_irf'].between(4.0,5.9),3,df['pts_irf'])\n",
    "df['pts_irf'] = np.where(df['pts_irf'].between(6.0,7.9),4,df['pts_irf'])\n",
    "df['pts_irf'] = df['pts_irf'].mask(df['pts_irf'] > 7.9,5)\n",
    "df['pts_irf'] = df['pts_irf'].mask(df['pts_irf'] < 0,0)"
   ]
  },
  {
   "cell_type": "markdown",
   "metadata": {
    "id": "mRyvhiGh1clG"
   },
   "source": [
    "### 4.2. Split X and y\n",
    "\n",
    "Split the X and y dataset"
   ]
  },
  {
   "cell_type": "code",
   "execution_count": 114,
   "metadata": {
    "ExecuteTime": {
     "end_time": "2021-05-12T09:42:21.296444Z",
     "start_time": "2021-05-12T09:42:21.283448Z"
    },
    "id": "kZ4jnIEK1clG"
   },
   "outputs": [],
   "source": [
    "# Split the y variable series and x variables dataset\n",
    "y = df['gwk_31_pts']\n",
    "X = df.drop(['gwk_31_pts'],axis=1)"
   ]
  },
  {
   "cell_type": "markdown",
   "metadata": {
    "id": "wYN9nye71clH"
   },
   "source": [
    "### 4.4. Feature Scaling\n",
    "\n",
    "It is a technique to standardize the x variables (features) present in the data in a fixed range. It needs to be done before training the model.\n",
    "\n",
    "But if you are using tree based models, you should not go for feature scaling"
   ]
  },
  {
   "cell_type": "code",
   "execution_count": 115,
   "metadata": {
    "ExecuteTime": {
     "end_time": "2021-05-12T09:42:26.946842Z",
     "start_time": "2021-05-12T09:42:26.935846Z"
    },
    "id": "qCleFg0h1clH"
   },
   "outputs": [],
   "source": [
    "# Define the function to scale the data using StandardScaler()\n",
    "def scale_data(data):\n",
    "    \n",
    "    scaler = StandardScaler() \n",
    "\n",
    "    # transform data\n",
    "    scaled_data = scaler.fit_transform(data)\n",
    "    scaled_data = DataFrame(scaled_data)\n",
    "\n",
    "    scaled_data.columns = data.columns\n",
    "    \n",
    "    return scaled_data"
   ]
  },
  {
   "cell_type": "code",
   "execution_count": 117,
   "metadata": {
    "ExecuteTime": {
     "end_time": "2021-05-12T09:42:30.295370Z",
     "start_time": "2021-05-12T09:42:30.266368Z"
    },
    "id": "_rIdh58t1clI",
    "outputId": "ecc857c7-7f05-4e43-e24d-5938d4b4f5ff"
   },
   "outputs": [
    {
     "data": {
      "text/html": [
       "<div>\n",
       "<style scoped>\n",
       "    .dataframe tbody tr th:only-of-type {\n",
       "        vertical-align: middle;\n",
       "    }\n",
       "\n",
       "    .dataframe tbody tr th {\n",
       "        vertical-align: top;\n",
       "    }\n",
       "\n",
       "    .dataframe thead th {\n",
       "        text-align: right;\n",
       "    }\n",
       "</style>\n",
       "<table border=\"1\" class=\"dataframe\">\n",
       "  <thead>\n",
       "    <tr style=\"text-align: right;\">\n",
       "      <th></th>\n",
       "      <th>player_state</th>\n",
       "      <th>summed_minutes_played</th>\n",
       "      <th>form</th>\n",
       "      <th>fdr</th>\n",
       "      <th>pts_irf</th>\n",
       "    </tr>\n",
       "  </thead>\n",
       "  <tbody>\n",
       "    <tr>\n",
       "      <th>0</th>\n",
       "      <td>0.660004</td>\n",
       "      <td>1.487962</td>\n",
       "      <td>1.842056</td>\n",
       "      <td>-0.937656</td>\n",
       "      <td>2.126703</td>\n",
       "    </tr>\n",
       "    <tr>\n",
       "      <th>1</th>\n",
       "      <td>0.660004</td>\n",
       "      <td>1.487962</td>\n",
       "      <td>3.727027</td>\n",
       "      <td>-0.937656</td>\n",
       "      <td>2.829043</td>\n",
       "    </tr>\n",
       "    <tr>\n",
       "      <th>2</th>\n",
       "      <td>0.660004</td>\n",
       "      <td>1.487962</td>\n",
       "      <td>0.899570</td>\n",
       "      <td>0.116284</td>\n",
       "      <td>2.829043</td>\n",
       "    </tr>\n",
       "    <tr>\n",
       "      <th>3</th>\n",
       "      <td>0.660004</td>\n",
       "      <td>0.494247</td>\n",
       "      <td>0.899570</td>\n",
       "      <td>-0.937656</td>\n",
       "      <td>2.829043</td>\n",
       "    </tr>\n",
       "    <tr>\n",
       "      <th>4</th>\n",
       "      <td>0.660004</td>\n",
       "      <td>0.991104</td>\n",
       "      <td>0.899570</td>\n",
       "      <td>-1.991595</td>\n",
       "      <td>0.019680</td>\n",
       "    </tr>\n",
       "  </tbody>\n",
       "</table>\n",
       "</div>"
      ],
      "text/plain": [
       "   player_state  summed_minutes_played      form       fdr   pts_irf\n",
       "0      0.660004               1.487962  1.842056 -0.937656  2.126703\n",
       "1      0.660004               1.487962  3.727027 -0.937656  2.829043\n",
       "2      0.660004               1.487962  0.899570  0.116284  2.829043\n",
       "3      0.660004               0.494247  0.899570 -0.937656  2.829043\n",
       "4      0.660004               0.991104  0.899570 -1.991595  0.019680"
      ]
     },
     "execution_count": 117,
     "metadata": {},
     "output_type": "execute_result"
    }
   ],
   "source": [
    "# Scale X dataset\n",
    "scaled_X = scale_data(X)\n",
    "scaled_X.head()"
   ]
  },
  {
   "cell_type": "markdown",
   "metadata": {
    "id": "UKghxo_m1clI"
   },
   "source": [
    "### 4.5 Train - Test Split\n",
    "\n",
    "Split the dataset in training and test set"
   ]
  },
  {
   "cell_type": "code",
   "execution_count": 118,
   "metadata": {
    "ExecuteTime": {
     "end_time": "2021-05-12T09:42:32.571870Z",
     "start_time": "2021-05-12T09:42:32.550870Z"
    },
    "id": "cM3t3msJ1clI"
   },
   "outputs": [],
   "source": [
    "# Split the dataset into the training set and test set\n",
    "X_train, X_test, y_train, y_test = train_test_split(scaled_X, y, test_size = 0.3, random_state = 0)"
   ]
  },
  {
   "cell_type": "markdown",
   "metadata": {
    "id": "qfQmUgFl1clI"
   },
   "source": [
    "<div class=\"alert alert-info\" style=\"background-color:#EF7483; color:white; padding:0px 10px; border-radius:5px;\"><h2 style='margin:10px 5px'>5. Model Building</h2>\n",
    "</div>\n",
    "\n",
    "In this section you will:\n",
    "- Train the model on training data\n",
    "- Get the predictions on testing data\n",
    "- Evaluate the performance of model on testing data"
   ]
  },
  {
   "cell_type": "markdown",
   "metadata": {
    "id": "Kbx4cYhM1clJ"
   },
   "source": [
    "### 5.1 Train Model\n",
    "\n",
    "Train the model on training data"
   ]
  },
  {
   "cell_type": "markdown",
   "metadata": {
    "ExecuteTime": {
     "end_time": "2021-05-12T10:54:36.427687Z",
     "start_time": "2021-05-12T10:54:36.408649Z"
    }
   },
   "source": [
    "# Random Forest Classifier"
   ]
  },
  {
   "cell_type": "code",
   "execution_count": 184,
   "metadata": {
    "ExecuteTime": {
     "end_time": "2021-05-12T13:49:13.947591Z",
     "start_time": "2021-05-12T13:49:13.920583Z"
    },
    "id": "trdzmhy81clJ"
   },
   "outputs": [],
   "source": [
    "model =  RandomForestClassifier(n_estimators=280)\n"
   ]
  },
  {
   "cell_type": "code",
   "execution_count": 185,
   "metadata": {
    "ExecuteTime": {
     "end_time": "2021-05-12T13:49:15.852215Z",
     "start_time": "2021-05-12T13:49:15.158222Z"
    },
    "id": "tXFkYolX1clJ",
    "outputId": "02dda675-4e80-4d03-9c43-bc76ca79fbcc"
   },
   "outputs": [
    {
     "data": {
      "text/plain": [
       "RandomForestClassifier(n_estimators=280)"
      ]
     },
     "execution_count": 185,
     "metadata": {},
     "output_type": "execute_result"
    }
   ],
   "source": [
    "# Training the model:\n",
    "model.fit(X_train, y_train)\n",
    "\n",
    "model"
   ]
  },
  {
   "cell_type": "code",
   "execution_count": 186,
   "metadata": {
    "ExecuteTime": {
     "end_time": "2021-05-12T13:49:17.594103Z",
     "start_time": "2021-05-12T13:49:17.488103Z"
    }
   },
   "outputs": [
    {
     "data": {
      "text/plain": [
       "0.7508361204013378"
      ]
     },
     "execution_count": 186,
     "metadata": {},
     "output_type": "execute_result"
    }
   ],
   "source": [
    "model.score(X_test,y_test)"
   ]
  },
  {
   "cell_type": "markdown",
   "metadata": {},
   "source": [
    "# SVM Classifier"
   ]
  },
  {
   "cell_type": "code",
   "execution_count": 175,
   "metadata": {
    "ExecuteTime": {
     "end_time": "2021-05-12T11:26:07.516325Z",
     "start_time": "2021-05-12T11:26:06.863091Z"
    }
   },
   "outputs": [
    {
     "data": {
      "text/plain": [
       "SVC(probability=True)"
      ]
     },
     "execution_count": 175,
     "metadata": {},
     "output_type": "execute_result"
    }
   ],
   "source": [
    "model= svm.SVC(probability=True)\n",
    "model.fit(X_ros, y_ros)\n"
   ]
  },
  {
   "cell_type": "code",
   "execution_count": 176,
   "metadata": {
    "ExecuteTime": {
     "end_time": "2021-05-12T11:26:09.065459Z",
     "start_time": "2021-05-12T11:26:09.012433Z"
    }
   },
   "outputs": [
    {
     "data": {
      "text/plain": [
       "0.5551839464882943"
      ]
     },
     "execution_count": 176,
     "metadata": {},
     "output_type": "execute_result"
    }
   ],
   "source": [
    "model.score(X_test,y_test)"
   ]
  },
  {
   "cell_type": "markdown",
   "metadata": {},
   "source": [
    "# Multi Layered Perceptron Classifier"
   ]
  },
  {
   "cell_type": "code",
   "execution_count": 183,
   "metadata": {
    "ExecuteTime": {
     "end_time": "2021-05-12T11:46:27.994321Z",
     "start_time": "2021-05-12T11:46:24.289087Z"
    }
   },
   "outputs": [
    {
     "data": {
      "text/plain": [
       "0.5535117056856187"
      ]
     },
     "execution_count": 183,
     "metadata": {},
     "output_type": "execute_result"
    }
   ],
   "source": [
    "model = MLPClassifier(hidden_layer_sizes=(11,11,11),max_iter=500)\n",
    "model.fit(X_train,y_train)\n",
    "model.score(X_test,y_test)"
   ]
  },
  {
   "cell_type": "markdown",
   "metadata": {
    "id": "vKCDvCYm1clK"
   },
   "source": [
    "### 5.2 Model Predictions\n",
    "\n",
    "Get the predictions from the model on testing data"
   ]
  },
  {
   "cell_type": "code",
   "execution_count": 158,
   "metadata": {
    "ExecuteTime": {
     "end_time": "2021-05-12T10:57:34.059865Z",
     "start_time": "2021-05-12T10:57:33.977417Z"
    },
    "id": "l1E0r9Bl1clK",
    "outputId": "2d17b68d-7ca2-4bfc-a1c9-bfbcf5e2e475"
   },
   "outputs": [
    {
     "name": "stdout",
     "output_type": "stream",
     "text": [
      "Y predicted :  [5 3 4 4 4 1 2 2 3 2 5 1 1 3 4 3 3 1 1 5 5 3 1 1 0 1 1 5 3 0 3 3 1 5 0 2 3\n",
      " 1 3 3 3 1 3 2 2 2 0 2 5 5 1 1 2 5 2 3 4 2 1 5 2 2 0 1 5 4 3 3 3 3 2 1 3 5\n",
      " 3 4 4 5 0 5 0 0 3 1 1 1 4 2 4 1 1 4 1 0 3 1 1 4 4 3 4 3 0 1 5 3 5 1 1 2 0\n",
      " 1 2 4 4 5 1 5 5 3 1 5 5 1 5 1 2 5 0 1 1 5 3 2 4 3 1 2 1 4 1 3 5 4 3 1 1 4\n",
      " 2 0 1 1 3 2 3 3 0 2 3 0 3 4 5 0 5 5 5 0 5 1 4 5 0 0 0 5 5 1 3 5 0 1 4 3 2\n",
      " 3 3 2 5 3 3 2 0 2 0 0 5 5 0 2 3 3 0 4 1 1 5 0 3 1 5 4 0 0 5 0 2 0 5 3 2 4\n",
      " 1 3 5 5 1 5 5 1 3 5 1 5 2 1 5 5 5 1 4 5 3 2 1 2 3 5 3 4 3 4 2 2 5 4 2 3 0\n",
      " 2 2 0 5 4 2 3 0 5 5 1 3 4 3 5 5 2 1 0 4 0 1 1 3 3 1 4 5 2 2 3 1 1 4 4 0 3\n",
      " 3 3 4 5 4 0 4 0 2 0 0 5 3 1 4 3 2 3 3 5 0 5 1 0 3 5 1 3 2 1 5 1 5 3 3 0 1\n",
      " 3 1 1 2 0 4 0 3 2 0 3 4 5 1 1 5 3 3 4 0 3 5 2 5 4 4 1 5 2 2 4 4 5 5 1 4 1\n",
      " 3 3 1 0 3 0 4 4 1 5 1 1 3 5 1 0 5 1 4 3 2 3 1 1 5 1 3 3 5 4 1 2 0 3 3 4 3\n",
      " 0 3 3 0 2 1 3 3 3 0 5 1 4 3 1 0 1 3 3 4 4 1 1 1 2 2 3 5 4 2 3 3 3 5 3 5 2\n",
      " 0 0 0 3 0 4 2 5 3 1 1 5 1 3 5 0 0 5 3 3 4 2 0 3 2 5 3 3 0 1 5 1 2 4 1 1 3\n",
      " 1 2 5 2 4 5 3 2 5 3 5 4 4 4 4 3 2 1 0 0 4 1 3 5 4 0 0 2 1 0 1 3 1 1 5 4 5\n",
      " 1 3 3 4 3 3 1 2 1 1 1 4 1 2 5 0 0 4 5 2 5 5 5 0 1 3 1 5 3 5 4 4 1 3 1 1 2\n",
      " 2 1 5 1 2 5 4 3 5 5 0 2 2 0 1 2 0 2 1 1 2 4 5 1 0 5 3 1 5 5 0 3 1 1 3 3 3\n",
      " 2 4 4 4 4 5]\n",
      "Y probability predicted :  [0.02380589431700263, 0.06824088794667445, 0.11055583944428073, 0.11271773477791579, 0.07504765141248212]\n"
     ]
    }
   ],
   "source": [
    "# Predict class for test dataset\n",
    "y_pred = model.predict(X_test)\n",
    "\n",
    "# Predict probability for test dataset\n",
    "y_pred_prod = model.predict_proba(X_test)\n",
    "y_pred_prod = [x[1] for x in y_pred_prod]\n",
    "print(\"Y predicted : \",y_pred)\n",
    "print(\"Y probability predicted : \",y_pred_prod[:5])"
   ]
  },
  {
   "cell_type": "markdown",
   "metadata": {
    "id": "ienxU6i81clL"
   },
   "source": [
    "### 5.3. Model Evaluation\n",
    "\n",
    "Get the evaluation metrics to evaluate the performance of model on testing data"
   ]
  },
  {
   "cell_type": "code",
   "execution_count": 187,
   "metadata": {
    "ExecuteTime": {
     "end_time": "2021-05-12T13:49:22.593192Z",
     "start_time": "2021-05-12T13:49:22.541549Z"
    },
    "id": "XWSjspaM1clM"
   },
   "outputs": [],
   "source": [
    "# Define a function to compute various evaluation metrics \n",
    "def compute_evaluation_metric(testX, testy, y_predicted, y_predicted_prob,trainy,trainX):\n",
    "    print(\"\\n Accuracy Score :  \",accuracy_score(testy,y_predicted))\n",
    "    print(\"\\n Confusion Matrix : \")\n",
    "    show_confusion_matrix(testy, y_predicted)\n",
    "    print(\"\\n Classification Report : \\n\",classification_report(testy, y_predicted))\n",
    "    print(\"\\n AUC Score :\", multiclass_roc_auc_score(testy, y_predicted))\n",
    "    print(\"\\n ROC curve : \\n\")\n",
    "    plot_multiclass_roc(model, testX, testy, n_classes=6, figsize=(13, 9))\n",
    "    \n",
    "def show_confusion_matrix(validations, predictions):\n",
    "    LABELS = ['0','1','2','3','4','5']\n",
    "    matrix = confusion_matrix(validations, predictions)\n",
    "    plt.figure(figsize=(6, 4))\n",
    "    sns.heatmap(matrix,\n",
    "                cmap='coolwarm',\n",
    "                linecolor='white',\n",
    "                linewidths=1,\n",
    "                xticklabels=LABELS,\n",
    "                yticklabels=LABELS,\n",
    "                annot=True,\n",
    "                fmt='d')\n",
    "    plt.title('Confusion Matrix')\n",
    "    plt.ylabel('True Label')\n",
    "    plt.xlabel('Predicted Label')\n",
    "    plt.show()\n",
    "\n",
    "\n",
    "def multiclass_roc_auc_score(testy, y_pred, average=\"macro\"):\n",
    "    lb = LabelBinarizer()\n",
    "    lb.fit(testy)\n",
    "    y_test = lb.transform(testy)\n",
    "    y_pred = lb.transform(y_pred)\n",
    "    return roc_auc_score(y_test, y_pred,multi_class='ovo', average=average)\n",
    "\n",
    "def plot_multiclass_roc(clf, X_test, y_test, n_classes, figsize=(17, 6)):\n",
    "    y_score = clf.predict_proba(X_test)\n",
    "    LABELS = ['0','1','2','3','4','5']\n",
    "    # structures\n",
    "    fpr = {}\n",
    "    tpr = {}\n",
    "    roc_auc = {}\n",
    "\n",
    "    # calculate dummies once\n",
    "    y_test_dummies = pd.get_dummies(y_test, drop_first=False).values\n",
    "    for i in range(n_classes):\n",
    "        fpr[i], tpr[i], _ = roc_curve(y_test_dummies[:, i], y_score[:, i])\n",
    "        roc_auc[i] = auc(fpr[i], tpr[i])\n",
    "\n",
    "    # roc for each class\n",
    "    fig, ax = plt.subplots(figsize=figsize)\n",
    "    ax.plot([0, 1], [0, 1], 'k--')\n",
    "    ax.set_xlim([0.0, 1.0])\n",
    "    ax.set_ylim([0.0, 1.05])\n",
    "    ax.set_xlabel('False Positive Rate')\n",
    "    ax.set_ylabel('True Positive Rate')\n",
    "    ax.set_title('Receiver operating characteristic (ROC)')\n",
    "    for i in  range(n_classes):\n",
    "        ax.plot(fpr[i], tpr[i], label='ROC curve (area = %0.2f) for label %s' % (roc_auc[i], LABELS[i]))\n",
    "    ax.legend(loc=\"best\")\n",
    "    ax.grid(alpha=.4)\n",
    "    sns.despine()\n",
    "    plt.show()\n",
    "   "
   ]
  },
  {
   "cell_type": "code",
   "execution_count": 188,
   "metadata": {
    "ExecuteTime": {
     "end_time": "2021-05-12T13:49:28.742873Z",
     "start_time": "2021-05-12T13:49:27.602326Z"
    },
    "id": "OB9Av9OA1clM",
    "outputId": "c491573d-e5bc-451f-a8bf-37801f80fff5",
    "scrolled": true
   },
   "outputs": [
    {
     "name": "stdout",
     "output_type": "stream",
     "text": [
      "\n",
      " Accuracy Score :   0.5551839464882943\n",
      "\n",
      " Confusion Matrix : \n"
     ]
    },
    {
     "data": {
      "image/png": "[encoded data removed]",
      "text/plain": [
       "<Figure size 432x288 with 2 Axes>"
      ]
     },
     "metadata": {
      "needs_background": "light"
     },
     "output_type": "display_data"
    },
    {
     "name": "stdout",
     "output_type": "stream",
     "text": [
      "\n",
      " Classification Report : \n",
      "               precision    recall  f1-score   support\n",
      "\n",
      "           0       0.91      0.67      0.77       104\n",
      "           1       0.41      0.49      0.45       106\n",
      "           2       0.41      0.34      0.37        95\n",
      "           3       0.46      0.60      0.52        98\n",
      "           4       0.56      0.45      0.50        97\n",
      "           5       0.68      0.77      0.72        98\n",
      "\n",
      "    accuracy                           0.56       598\n",
      "   macro avg       0.57      0.55      0.56       598\n",
      "weighted avg       0.57      0.56      0.56       598\n",
      "\n",
      "\n",
      " AUC Score : 0.732296011336301\n",
      "\n",
      " ROC curve : \n",
      "\n"
     ]
    },
    {
     "data": {
      "image/png": "[encoded data removed]",
      "text/plain": [
       "<Figure size 936x648 with 1 Axes>"
      ]
     },
     "metadata": {
      "needs_background": "light"
     },
     "output_type": "display_data"
    }
   ],
   "source": [
    "compute_evaluation_metric( X_test, y_test, y_pred, y_pred_prod,y_train,X_train)"
   ]
  },
  {
   "cell_type": "markdown",
   "metadata": {
    "id": "GJWToBtX1clM"
   },
   "source": [
    "<div class=\"alert alert-info\" style=\"background-color:#EF7483; color:white; padding:0px 10px; border-radius:5px;\"><h2 style='margin:10px 5px'>6. Improve Model</h2>\n",
    "</div>\n",
    "\n",
    "The first model you make may not be a good one. You need to improve the model. \n",
    "\n",
    "In majority of the classification problems, the target class is imbalanced. So you need to balance it in order to get best modelling results. \n",
    "\n",
    "In this section you will:\n",
    "- Handle class imbalance\n",
    "- Save the final model"
   ]
  },
  {
   "cell_type": "markdown",
   "metadata": {
    "id": "R02WXNZv1clN"
   },
   "source": [
    "### 6.1 Handle Class Imbalance\n",
    "\n",
    "Imbalanced classes are a common problem in machine learning classification where there are a disproportionate ratio of observations in each class.\n",
    "\n",
    "Most machine learning algorithms work best when the number of samples in each class are about equal. This is because most algorithms are designed to maximize accuracy and reduce error.\n",
    "\n",
    "Here, you will upsample the minority class"
   ]
  },
  {
   "cell_type": "code",
   "execution_count": 190,
   "metadata": {
    "ExecuteTime": {
     "end_time": "2021-05-12T14:42:31.123976Z",
     "start_time": "2021-05-12T14:42:31.099946Z"
    },
    "id": "TtKTLG4V1clN",
    "outputId": "e0d86097-d018-4d53-e620-6486e8833d0d"
   },
   "outputs": [
    {
     "data": {
      "text/plain": [
       "5    332\n",
       "4    332\n",
       "3    332\n",
       "2    332\n",
       "1    332\n",
       "0    332\n",
       "Name: gwk_31_pts, dtype: int64"
      ]
     },
     "execution_count": 190,
     "metadata": {},
     "output_type": "execute_result"
    }
   ],
   "source": [
    "# Over sample the minority class \n",
    "ros = RandomOverSampler()\n",
    "X_ros, y_ros = ros.fit_resample(X, y)\n",
    "\n",
    "y_ros.value_counts()\n"
   ]
  },
  {
   "cell_type": "code",
   "execution_count": 191,
   "metadata": {
    "ExecuteTime": {
     "end_time": "2021-05-12T14:43:29.967422Z",
     "start_time": "2021-05-12T14:43:29.957417Z"
    },
    "id": "6k5T26pa1clO"
   },
   "outputs": [],
   "source": [
    "# Define the function to build model on balanced dataset\n",
    "def classification_model(X, y):\n",
    "    \n",
    "    scaled_X = scale_data(X)\n",
    "    \n",
    "    # Split the dataset into the training set and test set\n",
    "    X_train, X_test, y_train, y_test = train_test_split(scaled_X, y, test_size = 0.3, random_state = 0)\n",
    "\n",
    "    # Training the model:\n",
    "    model.fit(X_train, y_train)\n",
    "\n",
    "    # Predict class for test dataset\n",
    "    y_pred = model.predict(X_test)\n",
    "    \n",
    "    # Predict probability for test dataset\n",
    "    y_pred_prod = model.predict_proba(X_test)\n",
    "    y_pred_prod = [x[1] for x in y_pred_prod]\n",
    "    \n",
    "    # Compute Evaluation Metric\n",
    "    compute_evaluation_metric( X_test, y_test, y_pred, y_pred_prod,y_train,X_train)\n",
    "    \n",
    "    return model"
   ]
  },
  {
   "cell_type": "code",
   "execution_count": 134,
   "metadata": {
    "ExecuteTime": {
     "end_time": "2021-05-12T09:48:29.082910Z",
     "start_time": "2021-05-12T09:48:27.401893Z"
    },
    "id": "U3fdk6vX1clO",
    "outputId": "2cfe975c-c1ee-49b8-b096-5b0d38ffddef"
   },
   "outputs": [
    {
     "name": "stdout",
     "output_type": "stream",
     "text": [
      "\n",
      " Accuracy Score :   0.745819397993311\n",
      "\n",
      " Confusion Matrix : \n"
     ]
    },
    {
     "data": {
      "image/png": "[encoded data removed]",
      "text/plain": [
       "<Figure size 432x288 with 2 Axes>"
      ]
     },
     "metadata": {
      "needs_background": "light"
     },
     "output_type": "display_data"
    },
    {
     "name": "stdout",
     "output_type": "stream",
     "text": [
      "\n",
      " Classification Report : \n",
      "               precision    recall  f1-score   support\n",
      "\n",
      "           0       0.89      0.74      0.81       104\n",
      "           1       0.75      0.65      0.70       106\n",
      "           2       0.70      0.67      0.68        95\n",
      "           3       0.70      0.83      0.76        98\n",
      "           4       0.70      0.73      0.71        97\n",
      "           5       0.77      0.86      0.81        98\n",
      "\n",
      "    accuracy                           0.75       598\n",
      "   macro avg       0.75      0.75      0.74       598\n",
      "weighted avg       0.75      0.75      0.75       598\n",
      "\n",
      "\n",
      " AUC Score : 0.8480092767059279\n",
      "\n",
      " ROC curve : \n",
      "\n"
     ]
    },
    {
     "data": {
      "image/png": "[encoded data removed]",
      "text/plain": [
       "<Figure size 936x648 with 1 Axes>"
      ]
     },
     "metadata": {
      "needs_background": "light"
     },
     "output_type": "display_data"
    }
   ],
   "source": [
    "# Build model on balanced data and get evaluation metrics\n",
    "model = classification_model(X_ros, y_ros)"
   ]
  },
  {
   "cell_type": "markdown",
   "metadata": {
    "id": "WW4ysUYe1clO"
   },
   "source": [
    "### 6.2. Hyperparameter Tuning\n",
    "\n",
    "**Hyperparameter** is a parameter whose value is set before the learning process begins\n",
    "\n",
    "**Hyperparameter tuning** refers to the automatic optimization of the hyper-parameters of a ML model\n",
    "\n",
    "- Select the parameter grid according to the input provided"
   ]
  },
  {
   "cell_type": "code",
   "execution_count": 135,
   "metadata": {
    "ExecuteTime": {
     "end_time": "2021-05-12T09:48:42.789716Z",
     "start_time": "2021-05-12T09:48:42.777717Z"
    },
    "id": "fA9ar2Ge1clP"
   },
   "outputs": [],
   "source": [
    "# Split the dataset into the training set and test set\n",
    "X_train, X_test, y_train, y_test = train_test_split(X_ros, y_ros, test_size = 0.3, random_state = 0)"
   ]
  },
  {
   "cell_type": "code",
   "execution_count": 136,
   "metadata": {
    "ExecuteTime": {
     "end_time": "2021-05-12T09:48:44.569094Z",
     "start_time": "2021-05-12T09:48:44.564093Z"
    },
    "id": "R-njgAlI1clP"
   },
   "outputs": [],
   "source": [
    "# Define the parameters gird for random forest\n",
    "param_grid_random_forest = {'max_depth'   : [10,20,40],\n",
    "                            'n_estimators' : [100,200,300],\n",
    "                            'min_samples_leaf' : [1,2,5]        \n",
    "                           }  \n",
    "param_grid  = param_grid_random_forest"
   ]
  },
  {
   "cell_type": "code",
   "execution_count": 137,
   "metadata": {
    "ExecuteTime": {
     "end_time": "2021-05-12T09:49:15.188150Z",
     "start_time": "2021-05-12T09:48:46.491651Z"
    },
    "id": "5LHsnYGL1clQ",
    "outputId": "8591829d-c17b-4b42-e9f1-6ee168e19d8d"
   },
   "outputs": [
    {
     "name": "stdout",
     "output_type": "stream",
     "text": [
      "Fitting 5 folds for each of 27 candidates, totalling 135 fits\n"
     ]
    },
    {
     "name": "stderr",
     "output_type": "stream",
     "text": [
      "[Parallel(n_jobs=-1)]: Using backend LokyBackend with 4 concurrent workers.\n",
      "[Parallel(n_jobs=-1)]: Done  24 tasks      | elapsed:    7.8s\n",
      "[Parallel(n_jobs=-1)]: Done 120 tasks      | elapsed:   25.3s\n",
      "[Parallel(n_jobs=-1)]: Done 135 out of 135 | elapsed:   28.2s finished\n"
     ]
    },
    {
     "data": {
      "text/plain": [
       "GridSearchCV(estimator=RandomForestClassifier(n_estimators=280), n_jobs=-1,\n",
       "             param_grid={'max_depth': [10, 20, 40],\n",
       "                         'min_samples_leaf': [1, 2, 5],\n",
       "                         'n_estimators': [100, 200, 300]},\n",
       "             verbose=3)"
      ]
     },
     "execution_count": 137,
     "metadata": {},
     "output_type": "execute_result"
    }
   ],
   "source": [
    " # Run grid search \n",
    "grid = GridSearchCV(model, param_grid, refit = True, verbose = 3, n_jobs = -1) \n",
    "  \n",
    "# fit the model for grid search \n",
    "grid.fit(X_train, y_train)"
   ]
  },
  {
   "cell_type": "code",
   "execution_count": 138,
   "metadata": {
    "ExecuteTime": {
     "end_time": "2021-05-12T09:49:22.665612Z",
     "start_time": "2021-05-12T09:49:22.553688Z"
    },
    "id": "QdJN2CPH1clQ",
    "outputId": "bcdeb4cc-7120-4bb2-fc9c-f34a5aff959c"
   },
   "outputs": [
    {
     "name": "stdout",
     "output_type": "stream",
     "text": [
      "Y predicted :  [5 3 2 5 4 1 5 5 4 2 5 1 4 3 4 3 4 4 1 3 5 3 1 3 0 1 3 2 3 0 3 4 3 5 0 3 4\n",
      " 3 4 2 3 3 3 1 1 2 1 3 5 3 1 4 3 5 5 3 5 2 4 5 1 5 0 1 5 1 4 3 3 1 2 3 1 5\n",
      " 2 5 4 5 0 5 0 0 3 1 1 2 4 5 1 1 2 5 1 0 3 0 4 4 4 3 2 4 0 1 5 2 5 1 1 3 0\n",
      " 2 5 4 2 5 4 5 3 3 3 5 5 0 2 2 5 5 0 1 2 4 3 3 1 3 1 5 2 4 0 3 5 5 3 4 2 4\n",
      " 5 0 4 4 1 2 3 1 0 3 3 0 3 5 5 0 5 5 5 0 5 1 4 5 0 0 0 5 5 3 3 5 0 0 4 3 3\n",
      " 3 3 2 5 3 3 2 0 3 0 0 5 5 0 2 3 3 0 1 2 2 5 0 3 1 5 4 0 0 5 0 2 0 5 3 5 4\n",
      " 4 3 5 5 3 5 5 3 3 3 3 5 3 2 5 2 5 4 4 5 2 2 1 1 3 5 1 5 3 4 5 2 3 4 5 3 0\n",
      " 2 2 0 5 4 5 4 0 5 5 1 4 5 3 2 3 2 4 0 4 0 2 2 3 3 2 4 5 1 5 4 4 1 5 4 0 4\n",
      " 2 3 4 5 4 0 4 0 3 0 0 5 4 3 5 2 3 2 3 5 0 5 1 0 3 5 1 3 2 4 5 1 5 1 4 0 0\n",
      " 3 1 2 2 0 5 0 4 2 0 4 5 5 4 2 5 3 2 2 0 3 5 2 5 1 2 2 3 2 5 4 1 5 4 1 1 0\n",
      " 4 4 4 0 4 0 5 4 3 1 3 1 3 5 1 1 4 1 1 3 2 1 1 4 5 4 2 4 5 5 2 2 0 3 3 5 3\n",
      " 0 3 4 0 5 3 3 3 3 0 5 1 4 2 2 0 3 3 3 5 1 1 3 4 3 2 4 2 4 2 3 4 3 5 3 5 1\n",
      " 0 0 0 3 0 4 2 5 3 1 1 5 2 4 5 0 0 5 1 2 5 1 0 3 2 4 3 4 0 1 5 4 5 5 1 1 4\n",
      " 2 1 5 2 4 5 0 2 5 4 5 4 4 5 4 3 1 1 0 0 4 3 3 2 4 0 0 2 1 0 3 3 2 0 5 1 5\n",
      " 4 3 2 5 3 3 1 5 2 0 1 4 2 5 3 0 1 5 2 3 5 5 5 0 4 4 0 5 4 5 4 4 4 4 2 1 3\n",
      " 3 2 5 4 3 2 4 2 5 3 0 2 2 0 2 3 0 2 2 2 2 4 5 4 0 5 4 4 2 5 0 3 1 1 3 3 3\n",
      " 3 4 4 4 4 5]\n",
      "Y probability predicted :  [0.0, 0.0, 0.1568600724610785, 0.07700732457013522, 0.09007294318640663]\n"
     ]
    }
   ],
   "source": [
    "# Prediction using best parameters\n",
    "y_pred = grid.predict(X_test)\n",
    "\n",
    "# Predict probability for test dataset\n",
    "y_pred_prod = grid.predict_proba(X_test)\n",
    "y_pred_prod = [x[1] for x in y_pred_prod]\n",
    "print(\"Y predicted : \",y_pred)\n",
    "print(\"Y probability predicted : \",y_pred_prod[:5])"
   ]
  },
  {
   "cell_type": "code",
   "execution_count": 140,
   "metadata": {
    "ExecuteTime": {
     "end_time": "2021-05-12T09:49:36.669934Z",
     "start_time": "2021-05-12T09:49:35.629024Z"
    },
    "id": "HjT-Wkmr1clQ",
    "outputId": "cc6e6e27-4c75-44f4-a354-a06df6642137",
    "scrolled": true
   },
   "outputs": [
    {
     "name": "stdout",
     "output_type": "stream",
     "text": [
      "\n",
      " Accuracy Score :   0.745819397993311\n",
      "\n",
      " Confusion Matrix : \n"
     ]
    },
    {
     "data": {
      "image/png": "[encoded data removed]",
      "text/plain": [
       "<Figure size 432x288 with 2 Axes>"
      ]
     },
     "metadata": {
      "needs_background": "light"
     },
     "output_type": "display_data"
    },
    {
     "name": "stdout",
     "output_type": "stream",
     "text": [
      "\n",
      " Classification Report : \n",
      "               precision    recall  f1-score   support\n",
      "\n",
      "           0       0.89      0.72      0.80       104\n",
      "           1       0.83      0.58      0.69       106\n",
      "           2       0.72      0.66      0.69        95\n",
      "           3       0.70      0.87      0.78        98\n",
      "           4       0.69      0.73      0.71        97\n",
      "           5       0.70      0.92      0.80        98\n",
      "\n",
      "    accuracy                           0.75       598\n",
      "   macro avg       0.76      0.75      0.74       598\n",
      "weighted avg       0.76      0.75      0.74       598\n",
      "\n",
      "\n",
      " AUC Score : 0.8485552574147207\n",
      "\n",
      " ROC curve : \n",
      "\n"
     ]
    },
    {
     "data": {
      "image/png": "[encoded data removed]",
      "text/plain": [
       "<Figure size 936x648 with 1 Axes>"
      ]
     },
     "metadata": {
      "needs_background": "light"
     },
     "output_type": "display_data"
    }
   ],
   "source": [
    "compute_evaluation_metric( X_test, y_test, y_pred, y_pred_prod,y_train,X_train)"
   ]
  },
  {
   "cell_type": "code",
   "execution_count": 152,
   "metadata": {
    "ExecuteTime": {
     "end_time": "2021-05-12T10:50:47.400527Z",
     "start_time": "2021-05-12T10:50:47.314558Z"
    },
    "scrolled": true
   },
   "outputs": [
    {
     "data": {
      "text/plain": [
       "0.1505016722408027"
      ]
     },
     "execution_count": 152,
     "metadata": {},
     "output_type": "execute_result"
    }
   ],
   "source": [
    "model.score(X_test,y_test)"
   ]
  },
  {
   "cell_type": "markdown",
   "metadata": {},
   "source": [
    "### 6.3 Ensemble Learning"
   ]
  },
  {
   "cell_type": "markdown",
   "metadata": {},
   "source": [
    "To improve our model we apply ensemble learning which is the process by which multiple models, such as classifiers or experts, are strategically generated and combined to solve a particular computational intelligence problem"
   ]
  },
  {
   "cell_type": "markdown",
   "metadata": {},
   "source": [
    "#### 6.3.1 Bagging"
   ]
  },
  {
   "cell_type": "code",
   "execution_count": 168,
   "metadata": {
    "ExecuteTime": {
     "end_time": "2021-05-12T11:23:37.573453Z",
     "start_time": "2021-05-12T11:23:34.104207Z"
    }
   },
   "outputs": [
    {
     "data": {
      "text/plain": [
       "BaggingClassifier(base_estimator=RandomForestClassifier(), max_samples=0.5,\n",
       "                  n_estimators=20)"
      ]
     },
     "execution_count": 168,
     "metadata": {},
     "output_type": "execute_result"
    }
   ],
   "source": [
    "model = BaggingClassifier(RandomForestClassifier\n",
    "(),max_samples=0.5,max_features=1.0, n_estimators=20)\n",
    "model.fit(X_train,y_train)"
   ]
  },
  {
   "cell_type": "code",
   "execution_count": 169,
   "metadata": {
    "ExecuteTime": {
     "end_time": "2021-05-12T11:23:39.787144Z",
     "start_time": "2021-05-12T11:23:39.369148Z"
    }
   },
   "outputs": [
    {
     "data": {
      "text/plain": [
       "0.7290969899665551"
      ]
     },
     "execution_count": 169,
     "metadata": {},
     "output_type": "execute_result"
    }
   ],
   "source": [
    "model.score(X_test,y_test)"
   ]
  },
  {
   "cell_type": "markdown",
   "metadata": {},
   "source": [
    "#### 6.3.2 Boosting"
   ]
  },
  {
   "cell_type": "code",
   "execution_count": 170,
   "metadata": {
    "ExecuteTime": {
     "end_time": "2021-05-12T11:23:56.445035Z",
     "start_time": "2021-05-12T11:23:55.237043Z"
    }
   },
   "outputs": [
    {
     "data": {
      "text/plain": [
       "AdaBoostClassifier(base_estimator=RandomForestClassifier(), learning_rate=1,\n",
       "                   n_estimators=5)"
      ]
     },
     "execution_count": 170,
     "metadata": {},
     "output_type": "execute_result"
    }
   ],
   "source": [
    "model = AdaBoostClassifier(RandomForestClassifier(), n_estimators= 5, learning_rate= 1)\n",
    "model.fit(X_train,y_train)"
   ]
  },
  {
   "cell_type": "code",
   "execution_count": 171,
   "metadata": {
    "ExecuteTime": {
     "end_time": "2021-05-12T11:23:58.322280Z",
     "start_time": "2021-05-12T11:23:58.182280Z"
    },
    "scrolled": true
   },
   "outputs": [
    {
     "data": {
      "text/plain": [
       "0.7391304347826086"
      ]
     },
     "execution_count": 171,
     "metadata": {},
     "output_type": "execute_result"
    }
   ],
   "source": [
    "model.score(X_test,y_test)"
   ]
  },
  {
   "cell_type": "markdown",
   "metadata": {},
   "source": [
    "#### 6.3.3 Voting Classifier"
   ]
  },
  {
   "cell_type": "code",
   "execution_count": 179,
   "metadata": {
    "ExecuteTime": {
     "end_time": "2021-05-12T11:36:32.268573Z",
     "start_time": "2021-05-12T11:36:32.252578Z"
    }
   },
   "outputs": [],
   "source": [
    "lr = LogisticRegression()\n",
    "dt = DecisionTreeClassifier()\n",
    "svm = SVC(kernel= 'poly', degree= 2)"
   ]
  },
  {
   "cell_type": "code",
   "execution_count": 180,
   "metadata": {
    "ExecuteTime": {
     "end_time": "2021-05-12T11:38:13.430351Z",
     "start_time": "2021-05-12T11:38:13.169743Z"
    },
    "scrolled": true
   },
   "outputs": [
    {
     "data": {
      "text/plain": [
       "VotingClassifier(estimators=[('lr', LogisticRegression()),\n",
       "                             ('dt', DecisionTreeClassifier()),\n",
       "                             ('svm', SVC(degree=2, kernel='poly'))])"
      ]
     },
     "execution_count": 180,
     "metadata": {},
     "output_type": "execute_result"
    }
   ],
   "source": [
    "model = VotingClassifier(estimators= [('lr',lr),('dt',dt),('svm',svm)], voting= 'hard')\n",
    "model.fit(X_train,y_train)"
   ]
  },
  {
   "cell_type": "code",
   "execution_count": 181,
   "metadata": {
    "ExecuteTime": {
     "end_time": "2021-05-12T11:38:27.220012Z",
     "start_time": "2021-05-12T11:38:27.173185Z"
    }
   },
   "outputs": [
    {
     "data": {
      "text/plain": [
       "0.5568561872909699"
      ]
     },
     "execution_count": 181,
     "metadata": {},
     "output_type": "execute_result"
    }
   ],
   "source": [
    "model.score(X_test,y_test)"
   ]
  },
  {
   "cell_type": "markdown",
   "metadata": {
    "id": "TCrNj5G31clR"
   },
   "source": [
    "### 6.4. Save the final model\n",
    "\n",
    "You can save the model in local disk and use it whenever you want"
   ]
  },
  {
   "cell_type": "code",
   "execution_count": 46,
   "metadata": {
    "ExecuteTime": {
     "end_time": "2021-05-12T09:05:44.521686Z",
     "start_time": "2021-05-12T09:05:44.501686Z"
    },
    "id": "vvdyX-FI1clR"
   },
   "outputs": [],
   "source": [
    "# save the model to disk\n",
    "filename = 'final_model.sav'\n",
    "pickle.dump(grid.best_estimator_, open(filename, 'wb'))"
   ]
  },
  {
   "cell_type": "code",
   "execution_count": 47,
   "metadata": {
    "ExecuteTime": {
     "end_time": "2021-05-12T09:05:46.373098Z",
     "start_time": "2021-05-12T09:05:46.339096Z"
    },
    "id": "pthEl9571clR",
    "outputId": "f313aa74-957a-41c6-e5e6-db5525dd265a"
   },
   "outputs": [
    {
     "data": {
      "text/plain": [
       "RandomForestClassifier(max_depth=40)"
      ]
     },
     "execution_count": 47,
     "metadata": {},
     "output_type": "execute_result"
    }
   ],
   "source": [
    "# load the model from disk\n",
    "loaded_model = pickle.load(open(filename, 'rb'))\n",
    "loaded_model"
   ]
  },
  {
   "cell_type": "code",
   "execution_count": 48,
   "metadata": {
    "ExecuteTime": {
     "end_time": "2021-05-12T09:06:07.872265Z",
     "start_time": "2021-05-12T09:06:07.835265Z"
    }
   },
   "outputs": [
    {
     "data": {
      "text/html": [
       "<div>\n",
       "<style scoped>\n",
       "    .dataframe tbody tr th:only-of-type {\n",
       "        vertical-align: middle;\n",
       "    }\n",
       "\n",
       "    .dataframe tbody tr th {\n",
       "        vertical-align: top;\n",
       "    }\n",
       "\n",
       "    .dataframe thead th {\n",
       "        text-align: right;\n",
       "    }\n",
       "</style>\n",
       "<table border=\"1\" class=\"dataframe\">\n",
       "  <thead>\n",
       "    <tr style=\"text-align: right;\">\n",
       "      <th></th>\n",
       "      <th>player_id</th>\n",
       "      <th>player_name</th>\n",
       "      <th>player_state</th>\n",
       "      <th>summed_minutes_played</th>\n",
       "      <th>form</th>\n",
       "      <th>fdr</th>\n",
       "      <th>pts_irf</th>\n",
       "      <th>opp</th>\n",
       "      <th>player_position</th>\n",
       "      <th>player_cost</th>\n",
       "      <th>gwk_34_pts</th>\n",
       "    </tr>\n",
       "  </thead>\n",
       "  <tbody>\n",
       "    <tr>\n",
       "      <th>0</th>\n",
       "      <td>1</td>\n",
       "      <td>Fernandes</td>\n",
       "      <td>100</td>\n",
       "      <td>449.0</td>\n",
       "      <td>3.0</td>\n",
       "      <td>4</td>\n",
       "      <td>3.0</td>\n",
       "      <td>LIV</td>\n",
       "      <td>MID</td>\n",
       "      <td>11.5</td>\n",
       "      <td>0</td>\n",
       "    </tr>\n",
       "    <tr>\n",
       "      <th>1</th>\n",
       "      <td>2</td>\n",
       "      <td>Kane</td>\n",
       "      <td>100</td>\n",
       "      <td>360.0</td>\n",
       "      <td>6.8</td>\n",
       "      <td>2</td>\n",
       "      <td>9.0</td>\n",
       "      <td>SHU</td>\n",
       "      <td>FWD</td>\n",
       "      <td>11.8</td>\n",
       "      <td>2</td>\n",
       "    </tr>\n",
       "    <tr>\n",
       "      <th>2</th>\n",
       "      <td>3</td>\n",
       "      <td>Salah</td>\n",
       "      <td>100</td>\n",
       "      <td>379.0</td>\n",
       "      <td>5.6</td>\n",
       "      <td>4</td>\n",
       "      <td>3.0</td>\n",
       "      <td>MUN</td>\n",
       "      <td>MID</td>\n",
       "      <td>12.6</td>\n",
       "      <td>0</td>\n",
       "    </tr>\n",
       "    <tr>\n",
       "      <th>3</th>\n",
       "      <td>4</td>\n",
       "      <td>Son</td>\n",
       "      <td>100</td>\n",
       "      <td>315.0</td>\n",
       "      <td>4.0</td>\n",
       "      <td>2</td>\n",
       "      <td>5.0</td>\n",
       "      <td>SHU</td>\n",
       "      <td>MID</td>\n",
       "      <td>9.5</td>\n",
       "      <td>12</td>\n",
       "    </tr>\n",
       "    <tr>\n",
       "      <th>4</th>\n",
       "      <td>5</td>\n",
       "      <td>Bamford</td>\n",
       "      <td>100</td>\n",
       "      <td>365.0</td>\n",
       "      <td>4.0</td>\n",
       "      <td>3</td>\n",
       "      <td>2.0</td>\n",
       "      <td>BHA</td>\n",
       "      <td>FWD</td>\n",
       "      <td>6.5</td>\n",
       "      <td>1</td>\n",
       "    </tr>\n",
       "  </tbody>\n",
       "</table>\n",
       "</div>"
      ],
      "text/plain": [
       "   player_id player_name  player_state  summed_minutes_played  form  fdr  \\\n",
       "0          1   Fernandes           100                  449.0   3.0    4   \n",
       "1          2        Kane           100                  360.0   6.8    2   \n",
       "2          3       Salah           100                  379.0   5.6    4   \n",
       "3          4         Son           100                  315.0   4.0    2   \n",
       "4          5     Bamford           100                  365.0   4.0    3   \n",
       "\n",
       "   pts_irf   opp player_position  player_cost  gwk_34_pts  \n",
       "0      3.0  LIV              MID         11.5           0  \n",
       "1      9.0  SHU              FWD         11.8           2  \n",
       "2      3.0  MUN              MID         12.6           0  \n",
       "3      5.0  SHU              MID          9.5          12  \n",
       "4      2.0  BHA              FWD          6.5           1  "
      ]
     },
     "execution_count": 48,
     "metadata": {},
     "output_type": "execute_result"
    }
   ],
   "source": [
    "# Read data in form of a csv file\n",
    "new_test_data = pd.read_csv(input_test_file_name)\n",
    "\n",
    "# First 5 rows of the dataset\n",
    "new_test_data.head()"
   ]
  },
  {
   "cell_type": "code",
   "execution_count": 49,
   "metadata": {
    "ExecuteTime": {
     "end_time": "2021-05-12T09:06:20.419759Z",
     "start_time": "2021-05-12T09:06:20.350741Z"
    }
   },
   "outputs": [],
   "source": [
    "new_test_data['player_state'] = new_test_data[['player_state']].replace([100,75,50,25,0],[5,4,3,1,0])\n",
    "new_test_data['fdr'] = new_test_data[['fdr']].replace([5,4,3,2,1],[1,2,3,4,5])\n",
    "new_test_data['summed_minutes_played'] = np.where(new_test_data['summed_minutes_played'].between(1,90),1,new_test_data['summed_minutes_played'])\n",
    "new_test_data['summed_minutes_played'] = np.where(new_test_data['summed_minutes_played'].between(91,180),2,new_test_data['summed_minutes_played'])\n",
    "new_test_data['summed_minutes_played'] = np.where(new_test_data['summed_minutes_played'].between(181,270),3,new_test_data['summed_minutes_played'])\n",
    "new_test_data['summed_minutes_played'] = np.where(new_test_data['summed_minutes_played'].between(271,360),4,new_test_data['summed_minutes_played'])\n",
    "new_test_data['summed_minutes_played'] = np.where(new_test_data['summed_minutes_played'].between(361,450),5,new_test_data['summed_minutes_played'])\n",
    "new_test_data['form'] = np.where(new_test_data['form'].between(0.1,1.9),1,new_test_data['form'])\n",
    "new_test_data['form'] = np.where(new_test_data['form'].between(2.0,3.9),2,new_test_data['form'])\n",
    "new_test_data['form'] = np.where(new_test_data['form'].between(4.0,5.9),3,new_test_data['form'])\n",
    "new_test_data['form'] = np.where(new_test_data['form'].between(6.0,7.9),4,new_test_data['form'])\n",
    "new_test_data['form'] = new_test_data['form'].mask(new_test_data['form'] > 7.9,5)\n",
    "new_test_data['form'] = new_test_data['form'].mask(new_test_data['form'] < 0,0)\n",
    "new_test_data['pts_irf'] = np.where(new_test_data['pts_irf'].between(0.1,1.9),1,new_test_data['pts_irf'])\n",
    "new_test_data['pts_irf'] = np.where(new_test_data['pts_irf'].between(2.0,3.9),2,new_test_data['pts_irf'])\n",
    "new_test_data['pts_irf'] = np.where(new_test_data['pts_irf'].between(4.0,5.9),3,new_test_data['pts_irf'])\n",
    "new_test_data['pts_irf'] = np.where(new_test_data['pts_irf'].between(6.0,7.9),4,new_test_data['pts_irf'])\n",
    "new_test_data['pts_irf'] = new_test_data['pts_irf'].mask(new_test_data['pts_irf'] > 7.9,5)\n",
    "new_test_data['pts_irf'] = new_test_data['pts_irf'].mask(new_test_data['pts_irf'] < 0,0)\n",
    "new_test_data['gwk_34_pts'] = np.where(new_test_data['gwk_34_pts'].between(1,1),1,new_test_data['gwk_34_pts'])\n",
    "new_test_data['gwk_34_pts'] = np.where(new_test_data['gwk_34_pts'].between(2,3),2,new_test_data['gwk_34_pts'])\n",
    "new_test_data['gwk_34_pts'] = np.where(new_test_data['gwk_34_pts'].between(4,5),3,new_test_data['gwk_34_pts'])\n",
    "new_test_data['gwk_34_pts'] = np.where(new_test_data['gwk_34_pts'].between(6,8),4,new_test_data['gwk_34_pts'])\n",
    "new_test_data['gwk_34_pts'] = new_test_data['gwk_34_pts'].mask(new_test_data['gwk_34_pts'] > 8,5)\n",
    "new_test_data['gwk_34_pts'] = new_test_data['gwk_34_pts'].mask(new_test_data['gwk_34_pts'] < 0,0)\n"
   ]
  },
  {
   "cell_type": "code",
   "execution_count": 50,
   "metadata": {
    "ExecuteTime": {
     "end_time": "2021-05-12T09:06:50.289010Z",
     "start_time": "2021-05-12T09:06:50.254393Z"
    }
   },
   "outputs": [],
   "source": [
    "y = new_test_data['gwk_34_pts']\n",
    "X = new_test_data.drop('gwk_34_pts',axis=1)\n",
    "\n",
    "X = X.drop('player_name',axis=1)\n",
    "X = X.drop('player_id',axis=1)\n",
    "X = X.drop('player_position',axis=1)\n",
    "X = X.drop('player_cost',axis=1)\n",
    "X = X.drop('opp',axis=1)\n"
   ]
  },
  {
   "cell_type": "code",
   "execution_count": 51,
   "metadata": {
    "ExecuteTime": {
     "end_time": "2021-05-12T09:07:01.619345Z",
     "start_time": "2021-05-12T09:07:01.545343Z"
    },
    "scrolled": true
   },
   "outputs": [
    {
     "name": "stdout",
     "output_type": "stream",
     "text": [
      "0.4676524953789279\n"
     ]
    }
   ],
   "source": [
    "result = loaded_model.score(X, y)\n",
    "print(result)\n",
    "\n",
    "# Predict class for test dataset\n",
    "y_pred = loaded_model.predict(X)\n",
    "\n",
    "features = ['Predicted Class']\n",
    "df2 =  pd.DataFrame(y_pred,columns=features)\n",
    "new_test_data['Predicted Class'] = df2\n",
    "\n"
   ]
  },
  {
   "cell_type": "code",
   "execution_count": 52,
   "metadata": {
    "ExecuteTime": {
     "end_time": "2021-05-12T09:07:11.254707Z",
     "start_time": "2021-05-12T09:07:11.235706Z"
    }
   },
   "outputs": [
    {
     "data": {
      "text/html": [
       "<div>\n",
       "<style scoped>\n",
       "    .dataframe tbody tr th:only-of-type {\n",
       "        vertical-align: middle;\n",
       "    }\n",
       "\n",
       "    .dataframe tbody tr th {\n",
       "        vertical-align: top;\n",
       "    }\n",
       "\n",
       "    .dataframe thead th {\n",
       "        text-align: right;\n",
       "    }\n",
       "</style>\n",
       "<table border=\"1\" class=\"dataframe\">\n",
       "  <thead>\n",
       "    <tr style=\"text-align: right;\">\n",
       "      <th></th>\n",
       "      <th>player_state</th>\n",
       "      <th>summed_minutes_played</th>\n",
       "      <th>form</th>\n",
       "      <th>fdr</th>\n",
       "      <th>pts_irf</th>\n",
       "      <th>gwk_31_pts</th>\n",
       "    </tr>\n",
       "  </thead>\n",
       "  <tbody>\n",
       "    <tr>\n",
       "      <th>0</th>\n",
       "      <td>5</td>\n",
       "      <td>5</td>\n",
       "      <td>3.0</td>\n",
       "      <td>2</td>\n",
       "      <td>4</td>\n",
       "      <td>2</td>\n",
       "    </tr>\n",
       "    <tr>\n",
       "      <th>1</th>\n",
       "      <td>5</td>\n",
       "      <td>5</td>\n",
       "      <td>5.0</td>\n",
       "      <td>2</td>\n",
       "      <td>5</td>\n",
       "      <td>2</td>\n",
       "    </tr>\n",
       "    <tr>\n",
       "      <th>2</th>\n",
       "      <td>5</td>\n",
       "      <td>5</td>\n",
       "      <td>2.0</td>\n",
       "      <td>3</td>\n",
       "      <td>5</td>\n",
       "      <td>4</td>\n",
       "    </tr>\n",
       "    <tr>\n",
       "      <th>3</th>\n",
       "      <td>5</td>\n",
       "      <td>3</td>\n",
       "      <td>2.0</td>\n",
       "      <td>2</td>\n",
       "      <td>5</td>\n",
       "      <td>4</td>\n",
       "    </tr>\n",
       "    <tr>\n",
       "      <th>4</th>\n",
       "      <td>5</td>\n",
       "      <td>4</td>\n",
       "      <td>2.0</td>\n",
       "      <td>1</td>\n",
       "      <td>1</td>\n",
       "      <td>3</td>\n",
       "    </tr>\n",
       "  </tbody>\n",
       "</table>\n",
       "</div>"
      ],
      "text/plain": [
       "   player_state  summed_minutes_played  form  fdr  pts_irf  gwk_31_pts\n",
       "0             5                      5   3.0    2        4           2\n",
       "1             5                      5   5.0    2        5           2\n",
       "2             5                      5   2.0    3        5           4\n",
       "3             5                      3   2.0    2        5           4\n",
       "4             5                      4   2.0    1        1           3"
      ]
     },
     "execution_count": 52,
     "metadata": {},
     "output_type": "execute_result"
    }
   ],
   "source": [
    "df.head()"
   ]
  },
  {
   "cell_type": "markdown",
   "metadata": {},
   "source": []
  },
  {
   "cell_type": "code",
   "execution_count": 53,
   "metadata": {
    "ExecuteTime": {
     "end_time": "2021-05-12T09:07:50.358905Z",
     "start_time": "2021-05-12T09:07:50.284138Z"
    },
    "id": "-Iv8qaJd1clR"
   },
   "outputs": [],
   "source": [
    "dict  = new_test_data.transpose().to_dict()\n",
    "list_of_dict  = dict.values()\n",
    "list_of_dict  = list(list_of_dict)\n",
    "\n",
    "\n",
    "def star_players_limit(list_of_dict):\n",
    "    star_players = []\n",
    "    for x in list_of_dict:\n",
    "        \n",
    "        #Change it later\n",
    "        if x['player_cost'] >= 10:\n",
    "            star_players.append(x)  \n",
    "    return star_players\n",
    "\n",
    "\n",
    "def func(list_of_players):\n",
    "    budget = 104.5\n",
    "    return money_team\n",
    "\n",
    "\n",
    "def players_by_status(list_of_dict):\n",
    "    \n",
    "    fit_players= []\n",
    "    for x in list_of_dict:\n",
    "        \n",
    "        if x['player_state'] > 3:\n",
    "            fit_players.append(x)\n",
    "            \n",
    "           \n",
    "    return fit_players\n",
    "\n",
    "def points_top_players(list_of_dict):\n",
    "    top_players = []\n",
    "    for x in list_of_dict:\n",
    "        \n",
    "        #Change it later\n",
    "        if x['Predicted Class'] > 2:\n",
    "            top_players.append(x)\n",
    "            \n",
    "           \n",
    "    return top_players\n"
   ]
  },
  {
   "cell_type": "code",
   "execution_count": 60,
   "metadata": {
    "ExecuteTime": {
     "end_time": "2021-05-12T09:11:41.977581Z",
     "start_time": "2021-05-12T09:11:41.950373Z"
    }
   },
   "outputs": [],
   "source": [
    "def get_money_team_objects(budget =  104.5, star_player_limit = 15, GKP =2, DEF = 5, MID = 5, FWD =3):\n",
    "    money_team = []\n",
    "    star_player_limit= star_player_limit\n",
    "    budget= budget\n",
    "    injured = players_by_status(list_of_dict)\n",
    "    \n",
    "    no_of_star_players = 0\n",
    "    \n",
    "    positions = {\"GKP\":GKP ,\"DEF\": DEF,\"MID\": MID ,\"FWD\": FWD}\n",
    "    for player in points_top_players(list_of_dict):\n",
    "        if len(money_team) < star_player_limit and player in injured and budget >= player['player_cost'] and positions[player['player_position']] > 0 :\n",
    "            if (player['player_cost'] >= 8):\n",
    "                no_of_star_players += 1\n",
    "            \n",
    "            if no_of_star_players < 4:\n",
    "                money_team.append(player)\n",
    "                budget-= player['player_cost'] \n",
    "                positions[player['player_position']] = positions[player['player_position'] ]- 1\n",
    "            else:\n",
    "                if(player['player_cost'] < 8):\n",
    "                    money_team.append(player)\n",
    "                    budget-= player['player_cost'] \n",
    "                    positions[player['player_position']] = positions[player['player_position'] ]- 1\n",
    "      \n",
    "    final_team = [(item['player_name'], item['player_position'], item['player_cost']) for item in money_team]\n",
    "    total_points = sum([item['player_cost'] for item in money_team])\n",
    "    return final_team"
   ]
  },
  {
   "cell_type": "code",
   "execution_count": 61,
   "metadata": {
    "ExecuteTime": {
     "end_time": "2021-05-12T09:11:43.650149Z",
     "start_time": "2021-05-12T09:11:43.637147Z"
    }
   },
   "outputs": [
    {
     "name": "stdout",
     "output_type": "stream",
     "text": [
      "[('Fernandes', 'MID', 11.5),\n",
      " ('Salah', 'MID', 12.6),\n",
      " ('Martínez', 'GKP', 5.4),\n",
      " ('Vardy', 'FWD', 10.3),\n",
      " ('Meslier', 'GKP', 4.7),\n",
      " ('Mount', 'MID', 7.3),\n",
      " ('Ward-Prowse', 'MID', 5.8),\n",
      " ('Soucek', 'MID', 5.3),\n",
      " ('Shaw', 'DEF', 5.4),\n",
      " ('Wood', 'FWD', 6.3),\n",
      " ('Dunk', 'DEF', 4.9),\n",
      " ('Chilwell', 'DEF', 5.8),\n",
      " ('Richarlison', 'FWD', 7.8),\n",
      " ('Coufal', 'DEF', 4.7),\n",
      " ('Aina', 'DEF', 4.4)]\n"
     ]
    }
   ],
   "source": [
    "#outputs recommended players for game week 32\n",
    "pprint.pprint(get_money_team_objects())"
   ]
  },
  {
   "cell_type": "markdown",
   "metadata": {},
   "source": [
    "![](output.png) "
   ]
  },
  {
   "cell_type": "code",
   "execution_count": null,
   "metadata": {},
   "outputs": [],
   "source": []
  }
 ],
 "metadata": {
  "colab": {
   "name": "DataScience_Classification_Project_Template_ML_+-v2.ipynb",
   "provenance": []
  },
  "hide_input": false,
  "kernelspec": {
   "display_name": "Python 3",
   "language": "python",
   "name": "python3"
  },
  "language_info": {
   "codemirror_mode": {
    "name": "ipython",
    "version": 3
   },
   "file_extension": ".py",
   "mimetype": "text/x-python",
   "name": "python",
   "nbconvert_exporter": "python",
   "pygments_lexer": "ipython3",
   "version": "3.8.5"
  },
  "toc": {
   "base_numbering": 1,
   "nav_menu": {},
   "number_sections": false,
   "sideBar": true,
   "skip_h1_title": false,
   "title_cell": "Table of Contents",
   "title_sidebar": "Contents",
   "toc_cell": false,
   "toc_position": {},
   "toc_section_display": true,
   "toc_window_display": true
  },
  "varInspector": {
   "cols": {
    "lenName": 16,
    "lenType": 16,
    "lenVar": 40
   },
   "kernels_config": {
    "python": {
     "delete_cmd_postfix": "",
     "delete_cmd_prefix": "del ",
     "library": "var_list.py",
     "varRefreshCmd": "print(var_dic_list())"
    },
    "r": {
     "delete_cmd_postfix": ") ",
     "delete_cmd_prefix": "rm(",
     "library": "var_list.r",
     "varRefreshCmd": "cat(var_dic_list()) "
    }
   },
   "types_to_exclude": [
    "module",
    "function",
    "builtin_function_or_method",
    "instance",
    "_Feature"
   ],
   "window_display": false
  }
 },
 "nbformat": 4,
 "nbformat_minor": 1
}
